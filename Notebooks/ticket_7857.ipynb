{
 "cells": [
  {
   "cell_type": "code",
   "execution_count": 1,
   "id": "3e000743",
   "metadata": {},
   "outputs": [],
   "source": [
    "import os\n",
    "import pytz\n",
    "os.environ[\"DJANGO_ALLOW_ASYNC_UNSAFE\"] = \"true\"\n",
    "\n",
    "from django.apps import apps as django_apps\n",
    "from django.db.models.signals import post_save, post_delete\n",
    "from edc_base.utils import get_utcnow\n",
    "from edc_appointment.models import Appointment\n",
    "from edc_appointment.constants import NEW_APPT\n",
    "from edc_visit_schedule import site_visit_schedules\n",
    "\n",
    "from copy import copy"
   ]
  },
  {
   "cell_type": "code",
   "execution_count": 2,
   "id": "258d4597",
   "metadata": {},
   "outputs": [],
   "source": [
    "subject_identifier = 'B142-040990044-5'\n",
    "child_subject_identifier = 'B142-040990044-5-60'"
   ]
  },
  {
   "cell_type": "code",
   "execution_count": 3,
   "id": "84659b7b",
   "metadata": {},
   "outputs": [],
   "source": [
    "def update_forms_visit(forms, visit=None, new_visit=None, form_type='crf'):\n",
    "    for form in forms:\n",
    "        kwargs = {}\n",
    "        model_cls = django_apps.get_model(form.model)\n",
    "        if form_type == 'requisition':\n",
    "            kwargs = {'panel__name': form.panel_name}\n",
    "            post_save.disconnect(dispatch_uid='senaite_sample_create_on_post_save')\n",
    "        try:\n",
    "            model_obj = model_cls.objects.get(maternal_visit=visit, **kwargs)\n",
    "        except model_cls.DoesNotExist:\n",
    "            continue\n",
    "        else:\n",
    "            print(model_obj)\n",
    "            model_obj.maternal_visit = new_visit\n",
    "            model_obj.save()"
   ]
  },
  {
   "cell_type": "code",
   "execution_count": 4,
   "id": "a8097ba1",
   "metadata": {},
   "outputs": [],
   "source": [
    "appt_list = ['appt_type', 'appt_status', 'appt_reason', 'comment', 'appt_datetime']"
   ]
  },
  {
   "cell_type": "code",
   "execution_count": 5,
   "id": "8b87ab95",
   "metadata": {},
   "outputs": [
    {
     "data": {
      "text/plain": [
       "(1, {'flourish_caregiver.OnScheduleCohortCFUQuarterly': 1})"
      ]
     },
     "execution_count": 5,
     "metadata": {},
     "output_type": "execute_result"
    }
   ],
   "source": [
    "onsch = OnScheduleCohortCFUQuarterly.objects.get(\n",
    "    subject_identifier=subject_identifier, child_subject_identifier=child_subject_identifier)\n",
    "old_quart_appt = Appointment.objects.filter(\n",
    "    subject_identifier=subject_identifier, schedule_name=onsch.schedule_name)\n",
    "old_quart_appt.delete()\n",
    "onsch.delete()"
   ]
  },
  {
   "cell_type": "code",
   "execution_count": 6,
   "id": "0ee7e610",
   "metadata": {},
   "outputs": [
    {
     "data": {
      "text/plain": [
       "(1, {'edc_visit_schedule.SubjectScheduleHistory': 1})"
      ]
     },
     "execution_count": 6,
     "metadata": {},
     "output_type": "execute_result"
    }
   ],
   "source": [
    "ssh = SubjectScheduleHistory.objects.filter(\n",
    "    subject_identifier=subject_identifier, schedule_name=onsch.schedule_name)\n",
    "ssh.delete()"
   ]
  },
  {
   "cell_type": "code",
   "execution_count": 7,
   "id": "e2240371",
   "metadata": {},
   "outputs": [
    {
     "name": "stdout",
     "output_type": "stream",
     "text": [
      "B142-040990044-5 3000C.0 B142-040990044-5 3000C.0\n",
      "B142-040990044-5 3000C.0\n",
      "B142-040990044-5 3000C.0\n",
      "B142-040990044-5 3000C.0\n",
      "B142-040990044-5 3000C.0\n",
      "B142-040990044-5 3000C.0\n",
      "B142-040990044-5 3000C.0\n",
      "B142-040990044-5 3000C.0\n",
      "B142-040990044-5 3000C.0\n",
      "B142-040990044-5 3000C.0\n",
      "B142-040990044-5 3000C.0\n",
      "B142-040990044-5 3000C.0\n",
      "B142-040990044-5 3000C.0\n"
     ]
    }
   ],
   "source": [
    "onschedule = OnScheduleCohortCFUSeq.objects.get(\n",
    "    subject_identifier=subject_identifier, child_subject_identifier=child_subject_identifier)\n",
    "\n",
    "try:\n",
    "    csh = CohortSchedules.objects.get(\n",
    "        schedule_type='sq_followup', cohort_name='cohort_c', child_count=1)\n",
    "except CohortSchedules.DoesNotExist:\n",
    "    print('meh')\n",
    "else:\n",
    "    _, schedule = site_visit_schedules.get_by_onschedule_model_schedule_name(\n",
    "        onschedule_model=csh.onschedule_model, name=csh.schedule_name)\n",
    "\n",
    "    if not schedule.is_onschedule(\n",
    "        subject_identifier=subject_identifier, report_datetime=onschedule.onschedule_datetime):\n",
    "        base_appt_datetime = onschedule.onschedule_datetime\n",
    "\n",
    "        schedule.put_on_schedule(\n",
    "            subject_identifier=onschedule.subject_identifier, \n",
    "            onschedule_datetime=onschedule.onschedule_datetime,\n",
    "            schedule_name=csh.schedule_name,\n",
    "            base_appt_datetime=base_appt_datetime)\n",
    "\n",
    "        onschedule_cls = django_apps.get_model(csh.onschedule_model)\n",
    "\n",
    "        onsch = onschedule_cls.objects.get(\n",
    "            subject_identifier=subject_identifier,\n",
    "            schedule_name=csh.schedule_name)\n",
    "        onsch.child_subject_identifier=child_subject_identifier\n",
    "        onsch.onschedule_datetime = onschedule.onschedule_datetime\n",
    "        onsch.save()\n",
    "\n",
    "        complete_appts = Appointment.objects.filter(\n",
    "            subject_identifier=subject_identifier,\n",
    "            schedule_name=onschedule.schedule_name, ).exclude(appt_status=NEW_APPT)\n",
    "\n",
    "        for appt in complete_appts:\n",
    "            # Get corresponding appt\n",
    "            new_appt = Appointment.objects.filter(subject_identifier=subject_identifier,\n",
    "                                                  visit_code=appt.visit_code,\n",
    "                                                  visit_code_sequence=appt.visit_code_sequence,\n",
    "                                                  schedule_name=csh.schedule_name)\n",
    "            if new_appt.exists():\n",
    "                appt_dict = {key: getattr(appt, key) for key in appt_list}\n",
    "                new_appt.update(**appt_dict)\n",
    "                try:\n",
    "                    visit = MaternalVisit.objects.get(appointment=appt)\n",
    "                except MaternalVisit.DoesNotExist:\n",
    "                    continue\n",
    "                else:\n",
    "                    new_visit = copy(visit)\n",
    "                    new_visit.pk = None\n",
    "                    new_visit.appointment = new_appt[0]\n",
    "                    new_visit.schedule_name = new_appt[0].schedule_name\n",
    "                    new_visit.visit_schedule_name = new_appt[0].visit_schedule_name\n",
    "                    new_visit.save()\n",
    "\n",
    "                    crfs = CrfMetadata.objects.filter(\n",
    "                        subject_identifier=subject_identifier,\n",
    "                        visit_code=visit.visit_code,\n",
    "                        visit_code_sequence=visit.visit_code_sequence,\n",
    "                        schedule_name=visit.schedule_name,\n",
    "                        entry_status='KEYED')\n",
    "                    print(visit, new_visit)\n",
    "                    update_forms_visit(forms=crfs, visit=visit, new_visit=new_visit)\n",
    "\n",
    "                    reqs = RequisitionMetadata.objects.filter(\n",
    "                        subject_identifier=subject_identifier,\n",
    "                        visit_code=visit.visit_code,\n",
    "                        visit_code_sequence=visit.visit_code_sequence,\n",
    "                        schedule_name=visit.schedule_name,\n",
    "                        entry_status='KEYED')\n",
    "                    update_forms_visit(forms=reqs, visit=visit, new_visit=new_visit, form_type='requisition')\n",
    "                    visit.save()"
   ]
  },
  {
   "cell_type": "code",
   "execution_count": 10,
   "id": "52fec984",
   "metadata": {},
   "outputs": [
    {
     "data": {
      "text/plain": [
       "(1, {'flourish_caregiver.OnScheduleCohortCFUSeq': 1})"
      ]
     },
     "execution_count": 10,
     "metadata": {},
     "output_type": "execute_result"
    }
   ],
   "source": [
    "post_delete.disconnect(dispatch_uid='metadata_reset_on_post_delete')\n",
    "\n",
    "onsch = OnScheduleCohortCFUSeq.objects.get(\n",
    "    subject_identifier=subject_identifier,\n",
    "    child_subject_identifier=child_subject_identifier, schedule_name__icontains='2')\n",
    "ssh = SubjectScheduleHistory.objects.filter(\n",
    "    subject_identifier=subject_identifier, schedule_name=onsch.schedule_name)\n",
    "appts = Appointment.objects.filter(\n",
    "    subject_identifier=subject_identifier, schedule_name=onsch.schedule_name)\n",
    "for appt in appts:\n",
    "    visit = MaternalVisit.objects.get(appointment=appt)\n",
    "    visit.delete()\n",
    "appts.delete()\n",
    "ssh.delete()\n",
    "onsch.delete()"
   ]
  },
  {
   "cell_type": "code",
   "execution_count": null,
   "id": "73c9c0a6",
   "metadata": {},
   "outputs": [],
   "source": []
  }
 ],
 "metadata": {
  "kernelspec": {
   "display_name": "Django Shell-Plus",
   "language": "python",
   "name": "django_extensions"
  },
  "language_info": {
   "codemirror_mode": {
    "name": "ipython",
    "version": 3
   },
   "file_extension": ".py",
   "mimetype": "text/x-python",
   "name": "python",
   "nbconvert_exporter": "python",
   "pygments_lexer": "ipython3",
   "version": "3.8.13"
  }
 },
 "nbformat": 4,
 "nbformat_minor": 5
}
