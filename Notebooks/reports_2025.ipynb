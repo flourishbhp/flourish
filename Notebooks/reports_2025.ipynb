{
 "cells": [
  {
   "cell_type": "code",
   "execution_count": 1,
   "id": "62a9add5",
   "metadata": {},
   "outputs": [],
   "source": [
    "import os\n",
    "import csv\n",
    "from datetime import timedelta\n",
    "from django.apps import apps as django_apps\n",
    "\n",
    "os.environ[\"DJANGO_ALLOW_ASYNC_UNSAFE\"] = \"true\""
   ]
  },
  {
   "cell_type": "code",
   "execution_count": 2,
   "id": "ba831c7b",
   "metadata": {},
   "outputs": [
    {
     "data": {
      "text/plain": [
       "'\\n    1. Participants pulled from PRE-Flourish to Flourish, include gender, age, and BMI.\\n    2. Participants eligible for Flourish not pulled from PRE-Flourish\\n'"
      ]
     },
     "execution_count": 2,
     "metadata": {},
     "output_type": "execute_result"
    }
   ],
   "source": [
    "\"\"\"\n",
    "    1. Participants pulled from PRE-Flourish to Flourish, include gender, age, and BMI.\n",
    "    2. Participants eligible for Flourish not pulled from PRE-Flourish\n",
    "\"\"\""
   ]
  },
  {
   "cell_type": "code",
   "execution_count": 15,
   "id": "a7594047",
   "metadata": {},
   "outputs": [],
   "source": [
    "child_idxs = CaregiverChildConsent.objects.filter(\n",
    "    study_child_identifier__icontains='P').values_list('subject_identifier', flat=True)\n",
    "consents = []\n",
    "for idx in child_idxs:\n",
    "    latest = CaregiverChildConsent.objects.filter(subject_identifier=idx).latest('consent_datetime')\n",
    "    # Check if BCPP before adding to consents list\n",
    "    screening_idx = latest.subject_consent.screening_identifier\n",
    "    dataset = MaternalDataset.objects.filter(screening_identifier=screening_idx).latest('created')\n",
    "    if dataset.protocol == 'BCPP':\n",
    "        cohort_obj = Cohort.objects.filter(subject_identifier=idx).latest('assign_datetime')\n",
    "        consents.append({'subject_identifier': idx,\n",
    "                         'study_child_identifier': latest.study_child_identifier,\n",
    "                         'age': round(cohort_obj.child_age, 2),\n",
    "                         'gender': cohort_obj.child_gender,\n",
    "                         'bmi': round(cohort_obj.child_bmi, 2)})"
   ]
  },
  {
   "cell_type": "code",
   "execution_count": 18,
   "id": "0054d7dc",
   "metadata": {},
   "outputs": [],
   "source": [
    "keys = consents[0].keys()\n",
    "with open('pre_flourish_to_flourish_pids.csv', 'w') as f:\n",
    "    writer = csv.DictWriter(f, fieldnames=keys)\n",
    "    writer.writeheader()\n",
    "    writer.writerows(consents)"
   ]
  },
  {
   "cell_type": "code",
   "execution_count": 21,
   "id": "9f95175d",
   "metadata": {},
   "outputs": [],
   "source": [
    "from pre_flourish.helper_classes.utils import is_flourish_eligible\n",
    "from edc_constants.constants import YES\n",
    "\n",
    "pf_child_idxs = PreFlourishCaregiverChildConsent.objects.values_list('subject_identifier', flat=True)\n",
    "pf_consents = []\n",
    "\n",
    "for idx in pf_child_idxs:\n",
    "    flourish_enrol = CaregiverChildConsent.objects.filter(study_child_identifier=idx).exists()\n",
    "    if is_flourish_eligible(idx) and not flourish_enrol:\n",
    "        contact = PreFlourishContact.objects.filter(subject_identifier=idx,\n",
    "                                                    contact_success=YES,\n",
    "                                                    appt_scheduled=YES,\n",
    "                                                    appt_date__isnull=False).last()\n",
    "        scheduled_dt = getattr(contact, 'appt_date', '')\n",
    "        pf_consents.append({'subject_identifier': idx,\n",
    "                            'fl_enrol_scheduled': 'Yes' if scheduled_dt else 'No',\n",
    "                            'scheduled_dt': scheduled_dt})"
   ]
  },
  {
   "cell_type": "code",
   "execution_count": 23,
   "id": "9c04be9c",
   "metadata": {},
   "outputs": [],
   "source": [
    "keys = pf_consents[0].keys()\n",
    "with open('pf_flourish_eligible_pids.csv', 'w') as f:\n",
    "    writer = csv.DictWriter(f, fieldnames=keys)\n",
    "    writer.writeheader()\n",
    "    writer.writerows(pf_consents)"
   ]
  }
 ],
 "metadata": {
  "kernelspec": {
   "display_name": "Django Shell-Plus",
   "language": "python",
   "name": "django_extensions"
  },
  "language_info": {
   "codemirror_mode": {
    "name": "ipython",
    "version": 3
   },
   "file_extension": ".py",
   "mimetype": "text/x-python",
   "name": "python",
   "nbconvert_exporter": "python",
   "pygments_lexer": "ipython3",
   "version": "3.8.13"
  }
 },
 "nbformat": 4,
 "nbformat_minor": 5
}
