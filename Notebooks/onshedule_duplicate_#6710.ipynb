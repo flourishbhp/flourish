{
 "cells": [
  {
   "cell_type": "code",
   "execution_count": 19,
   "metadata": {
    "collapsed": true
   },
   "outputs": [],
   "source": [
    "import os, sys\n",
    "import django\n",
    "from datetime import datetime\n",
    "sys.path.append('../..') # add path to project root dir\n",
    "os.environ[\"DJANGO_SETTINGS_MODULE\"] = \"flourish.settings\"\n",
    "from django.apps import apps as django_apps\n",
    "os.environ[\"DJANGO_ALLOW_ASYNC_UNSAFE\"] = \"true\"\n",
    "from django.apps import apps as django_apps\n",
    "\n",
    "django.setup()\n"
   ]
  },
  {
   "cell_type": "markdown",
   "source": [
    "Same child appearing on onschedule model for both cohort a and b"
   ],
   "metadata": {
    "collapsed": false
   }
  },
  {
   "cell_type": "code",
   "execution_count": 20,
   "outputs": [],
   "source": [
    "a_child_subject_identifier = 'B142-040990528-7-10'\n",
    "b_child_subject_identifier = 'B142-040990528-7-60'\n",
    "maternal_subject_identifier = 'B142-040990528-7'"
   ],
   "metadata": {
    "collapsed": false
   }
  },
  {
   "cell_type": "markdown",
   "source": [
    "Replace child identifier on onschedule model with the correct child subject identifier"
   ],
   "metadata": {
    "collapsed": false
   }
  },
  {
   "cell_type": "code",
   "execution_count": null,
   "outputs": [],
   "source": [
    "a_onschedule_cls =  django_apps.get_model('flourish_caregiver.onschedulecohortasec')\n",
    "b_onschedule_cls =  django_apps.get_model('flourish_caregiver.onschedulecohortbsec')\n",
    "\n",
    "try:\n",
    "    b_maternal_obschedule_model = b_onschedule_cls.objects.get(\n",
    "    subject_identifier = maternal_subject_identifier,\n",
    "    child_subject_identifier = a_child_subject_identifier,\n",
    "    )\n",
    "except b_onschedule_cls.DoesNotExist:\n",
    "    pass\n",
    "else:\n",
    "    b_maternal_obschedule_model.child_subject_identifier = b_child_subject_identifier\n",
    "    b_maternal_obschedule_model.save()"
   ],
   "metadata": {
    "collapsed": false,
    "pycharm": {
     "is_executing": true
    }
   }
  },
  {
   "cell_type": "markdown",
   "source": [],
   "metadata": {
    "collapsed": false
   }
  }
 ],
 "metadata": {
  "kernelspec": {
   "display_name": "Python 3",
   "language": "python",
   "name": "python3"
  },
  "language_info": {
   "codemirror_mode": {
    "name": "ipython",
    "version": 2
   },
   "file_extension": ".py",
   "mimetype": "text/x-python",
   "name": "python",
   "nbconvert_exporter": "python",
   "pygments_lexer": "ipython2",
   "version": "2.7.6"
  }
 },
 "nbformat": 4,
 "nbformat_minor": 0
}
