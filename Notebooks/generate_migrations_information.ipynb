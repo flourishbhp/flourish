{
 "cells": [
  {
   "cell_type": "code",
   "execution_count": 72,
   "id": "0982a960",
   "metadata": {},
   "outputs": [],
   "source": [
    "import os, sys, pytz\n",
    "import pandas as pd\n",
    "from django.db import DEFAULT_DB_ALIAS, connections\n",
    "from django.db.migrations.loader import MigrationLoader\n",
    "from django.db.migrations.recorder import MigrationRecorder\n",
    "\n",
    "sys.path.append('../') # add path to project root dir\n",
    "os.environ[\"DJANGO_SETTINGS_MODULE\"] = \"flourish.settings\"\n",
    "os.environ[\"DJANGO_ALLOW_ASYNC_UNSAFE\"] = \"true\"\n",
    "\n",
    "tz = pytz.timezone('Africa/Gaborone')\n",
    "connection = connections[DEFAULT_DB_ALIAS]\n",
    "loader = MigrationLoader(connection)"
   ]
  },
  {
   "cell_type": "code",
   "execution_count": 73,
   "id": "2fd8bb49",
   "metadata": {},
   "outputs": [],
   "source": [
    "migrations = MigrationRecorder.Migration.objects.filter(app__startswith='flourish')"
   ]
  },
  {
   "cell_type": "code",
   "execution_count": 74,
   "id": "ecf254b0",
   "metadata": {},
   "outputs": [],
   "source": [
    "records = []\n",
    "for migration in migrations:\n",
    "    try:\n",
    "        operations = loader.get_migration_by_prefix(migration.app, migration.name).operations\n",
    "    except KeyError:\n",
    "        continue\n",
    "    else:\n",
    "        for operation in operations:\n",
    "            operation_type, _, details = operation.deconstruct()\n",
    "            dt_applied = migration.applied.astimezone(tz)\n",
    "            record = {'date_applied': dt_applied.strftime('%d-%m-%Y %H:%M %p'),\n",
    "                      'operation_applied': operation.describe(),}\n",
    "            if operation_type == 'CreateModel':\n",
    "                model_name = details.get('name')\n",
    "                fields = details.get('fields')     \n",
    "                field_list = [field[0] for field in fields]\n",
    "                record.update(\n",
    "                    {'form_name': model_name,\n",
    "                     'field(s)': ', '.join(field_list)})\n",
    "            elif operation_type == 'RenameModel':\n",
    "                record.update({\n",
    "                    'form_name': f'old_name: {details.get(\"old_name\")} -> new_name: {details.get(\"new_name\")}',\n",
    "                    'field(s)': ''\n",
    "                })\n",
    "            elif operation_type in ['RemoveField', 'AddField', 'AlterField']:\n",
    "                model_name = details.get('model_name')\n",
    "                record.update({\n",
    "                    'form_name': model_name,\n",
    "                    'field(s)': details.get('name')\n",
    "                })\n",
    "            elif operation_type == 'DeleteModel':\n",
    "                model_name = details.get('name')\n",
    "                record.update({\n",
    "                    'form_name': model_name,\n",
    "                    'field(s)': ''\n",
    "                })\n",
    "            elif operation_type == 'RenameField':\n",
    "                model_name = details.get('model_name')\n",
    "                record.update({\n",
    "                    'form_name': model_name,\n",
    "                    'field(s)': f'old_name: {details.get(\"old_name\")} -> new_name: {details.get(\"new_name\")}'\n",
    "                })\n",
    "            elif operation_type in ['AlterModelManagers', 'AlterModelOptions', 'RunPython', 'AlterUniqueTogether']:\n",
    "                continue\n",
    "            else:\n",
    "                print(operation_type, details, migration.applied, operation.describe(), operation.deconstruct(), )\n",
    "                print('\\n')\n",
    "            records.append(record)"
   ]
  },
  {
   "cell_type": "code",
   "execution_count": 75,
   "id": "4cefb0fe",
   "metadata": {},
   "outputs": [],
   "source": [
    "df = pd.DataFrame(records)\n",
    "df.to_csv('migrations_details.csv', encoding='utf-8', index=False)"
   ]
  },
  {
   "cell_type": "code",
   "execution_count": null,
   "id": "04fcc086",
   "metadata": {},
   "outputs": [],
   "source": []
  }
 ],
 "metadata": {
  "kernelspec": {
   "display_name": "Django Shell-Plus",
   "language": "python",
   "name": "django_extensions"
  },
  "language_info": {
   "codemirror_mode": {
    "name": "ipython",
    "version": 3
   },
   "file_extension": ".py",
   "mimetype": "text/x-python",
   "name": "python",
   "nbconvert_exporter": "python",
   "pygments_lexer": "ipython3",
   "version": "3.8.13"
  }
 },
 "nbformat": 4,
 "nbformat_minor": 5
}
