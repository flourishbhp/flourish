{
 "cells": [
  {
   "cell_type": "code",
   "execution_count": 1,
   "id": "0fc1b8ae",
   "metadata": {},
   "outputs": [],
   "source": [
    "import os, sys\n",
    "from django.apps import apps as django_apps\n",
    "from datetime import datetime\n",
    "sys.path.append('../') # add path to project root dir\n",
    "os.environ[\"DJANGO_SETTINGS_MODULE\"] = \"flourish.settings\"\n",
    "os.environ[\"DJANGO_ALLOW_ASYNC_UNSAFE\"] = \"true\""
   ]
  },
  {
   "cell_type": "code",
   "execution_count": 6,
   "id": "49781b46",
   "metadata": {},
   "outputs": [],
   "source": [
    "schedules = CohortSchedules.objects.filter(\n",
    "    child_count__isnull=False).values_list('onschedule_model', flat=True)\n",
    "for onschedule_model in schedules:\n",
    "    onschedule_model_cls = django_apps.get_model(onschedule_model)\n",
    "\n",
    "    model_objs = onschedule_model_cls.objects.all()\n",
    "    for model_obj in model_objs:\n",
    "        if model_obj.child_subject_identifier == model_obj.subject_identifier:\n",
    "            child_identifiers = CaregiverChildConsent.objects.filter(\n",
    "                subject_consent__subject_identifier=model_obj.subject_identifier).values_list(\n",
    "                'subject_identifier', flat=True)\n",
    "            if len(set(child_identifiers)) == 1:\n",
    "                model_obj.child_subject_identifier = child_identifiers[0]\n",
    "                model_obj.save()"
   ]
  },
  {
   "cell_type": "code",
   "execution_count": null,
   "id": "bd1206dc",
   "metadata": {},
   "outputs": [],
   "source": []
  }
 ],
 "metadata": {
  "kernelspec": {
   "display_name": "Django Shell-Plus",
   "language": "python",
   "name": "django_extensions"
  },
  "language_info": {
   "codemirror_mode": {
    "name": "ipython",
    "version": 3
   },
   "file_extension": ".py",
   "mimetype": "text/x-python",
   "name": "python",
   "nbconvert_exporter": "python",
   "pygments_lexer": "ipython3",
   "version": "3.8.13"
  }
 },
 "nbformat": 4,
 "nbformat_minor": 5
}
