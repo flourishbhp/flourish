{
 "cells": [
  {
   "cell_type": "code",
   "execution_count": 62,
   "id": "87f4547f",
   "metadata": {},
   "outputs": [],
   "source": [
    "#notebook for TD HUU randomization report"
   ]
  },
  {
   "cell_type": "code",
   "execution_count": 63,
   "id": "13e1af9d",
   "metadata": {},
   "outputs": [],
   "source": [
    "# Imports\n",
    "import os \n",
    "import pandas as pd\n",
    "from django.core.exceptions import ValidationError\n",
    "os.environ[\"DJANGO_ALLOW_ASYNC_UNSAFE\"] = \"true\"\n",
    "from datetime import date\n",
    "import csv\n",
    "from django_pandas.io import read_frame"
   ]
  },
  {
   "cell_type": "code",
   "execution_count": 64,
   "id": "47349c32",
   "metadata": {},
   "outputs": [
    {
     "name": "stdout",
     "output_type": "stream",
     "text": [
      "Total Consented Caregivers:  1053\n",
      "Total TD Caregivers:  388\n",
      "Total TD HUU Caregivers:  114\n",
      "Total TD Consented HUU:  47\n",
      "Total TD Not Consented HUU:  67\n",
      "Total TD Offstudy:  0\n"
     ]
    }
   ],
   "source": [
    "consents_pids = SubjectConsent.objects.values_list('screening_identifier', flat=True).distinct()\n",
    "\n",
    "\n",
    "#Consented HUU\n",
    "consented_md = MaternalDataset.objects.filter(protocol='Tshilo Dikotla',\n",
    "                                              mom_hivstatus='HIV-uninfected',\n",
    "                                              screening_identifier__in=consents_pids)\n",
    "\n",
    "consented_md_pids = consented_md.values_list('study_maternal_identifier', flat=True)\n",
    "\n",
    "#Unconsented HUU\n",
    "\n",
    "td_uncosent_md = MaternalDataset.objects.filter(protocol='Tshilo Dikotla',\n",
    "                                      mom_hivstatus='HIV-uninfected').exclude(\n",
    "    screening_identifier__in=consents_pids)\n",
    "\n",
    "print(\"Total Consented Caregivers: \", len(consents_pids))\n",
    "print(\"Total TD Caregivers: \", td_md.count())\n",
    "print(\"Total TD HUU Caregivers: \", len(td_huu_md_pids))\n",
    "print(\"Total TD Consented HUU: \", len(consented_md_pids))\n",
    "print(\"Total TD Not Consented HUU: \", len(td_uncosent_pids))\n",
    "print(\"Total TD Offstudy: \", len(offstudy))\n",
    "\n",
    "\n",
    "data = [\n",
    "    ['total_td_huu.csv', td_huu_md_pids],\n",
    "    ['total_consented_td_huu.csv',  consented_md_pids],\n",
    "    ['total_not_consented_td_huu.csv', td_uncosent_pids],\n",
    "    ['total_offstudy_td_huu.csv', offstudy]\n",
    "]\n",
    "\n",
    "for d in data:\n",
    "    with open(d[0], 'w') as f:\n",
    "        writer = csv.writer(f)\n",
    "        for val in d[1]:\n",
    "            writer.writerow([val])"
   ]
  },
  {
   "cell_type": "code",
   "execution_count": 65,
   "id": "1eaa39b5",
   "metadata": {},
   "outputs": [
    {
     "name": "stdout",
     "output_type": "stream",
     "text": [
      "Total in the worklist:  114\n",
      "Total randomised TD HUU:  72\n",
      "Total Not Randomised TD HUU:  0\n",
      "Total missing from worklist:  0\n"
     ]
    }
   ],
   "source": [
    "#not_randomized\n",
    "non_rando = WorkList.objects.filter(study_maternal_identifier__in=td_uncosent_md_pids, assigned=None)\n",
    "\n",
    "# WorkList.objects.first().__dict__\n",
    "print(non_rando.count())"
   ]
  },
  {
   "cell_type": "code",
   "execution_count": 5,
   "id": "1bbec2dd",
   "metadata": {},
   "outputs": [],
   "source": [
    "#unconsented_HUU call logs\n",
    "td_unconsent_log_entries = LogEntry.objects.filter(study_maternal_identifier__in=td_uncosent_md_pids)\n",
    "td_unconsent_log_entries.count()\n",
    "\n",
    "data_rando_dict = [\n",
    "    worklist,randomised_worklist, final_not_randomised_worklist, missing_worklist_identifiers]\n",
    "\n",
    "print(\"Total in the worklist: \", len(worklist))\n",
    "print(\"Total randomised TD HUU: \", len(randomised_worklist))\n",
    "print(\"Total Not Randomised TD HUU: \", len(final_not_randomised_worklist))\n",
    "print(\"Total missing from worklist: \", len(missing_worklist_identifiers))\n",
    "\n",
    "# importing library\n",
    "import csv\n",
    " \n",
    "    \n",
    "data = [\n",
    "    ['total_worklist_td_huu.csv', worklist],\n",
    "    ['total_randomised_td_huu.csv', randomised_worklist],\n",
    "    ['total_not_randomised_td_huu.csv', final_not_randomised_worklist],\n",
    "    ['total_missing_worklist.csv', missing_worklist_identifiers]\n",
    "]\n",
    "\n",
    "for d in data:\n",
    "    with open(d[0], 'w') as f:\n",
    "        writer = csv.writer(f)\n",
    "        for val in d[1]:\n",
    "            writer.writerow([val])"
   ]
  },
  {
   "cell_type": "code",
   "execution_count": 66,
   "id": "32c598af",
   "metadata": {},
   "outputs": [],
   "source": [
    "unconsent_log_entry_ids = list(set(td_unconsent_log_entries.values_list('study_maternal_identifier', flat=True)))\n",
    "\n",
    "\n",
    "#success contact unconsented huu\n",
    "success_log_entries = LogEntry.objects.filter(~Q(phone_num_success=['none_of_the_above']),\n",
    "                                             study_maternal_identifier__in=td_uncosent_md_pids)\n",
    "\n",
    "success_log_entries_ids = success_log_entries.values_list('study_maternal_identifier', flat=True)\n",
    "\n",
    "print(\"Attempts made: \", len(attempt_identifiers))\n",
    "print('No Attempts: ', len(not_attempted))\n",
    "\n",
    "\n",
    "data = [\n",
    "    ['total_attempts_td_huu.csv', attempt_identifiers],\n",
    "    ['total_notattempted_td_huu.csv',  not_attempted],\n",
    "]\n",
    "\n",
    "for d in data:\n",
    "    with open(d[0], 'w') as f:\n",
    "        writer = csv.writer(f)\n",
    "        for val in d[1]:\n",
    "            writer.writerow([val])"
   ]
  },
  {
   "cell_type": "code",
   "execution_count": 67,
   "id": "1bbec2dd",
   "metadata": {},
   "outputs": [
    {
     "name": "stdout",
     "output_type": "stream",
     "text": [
      "TD HUU Continued Contact:  21\n",
      "TD HUU Not COntinued Contact Not Consented:  46\n"
     ]
    }
   ],
   "source": [
    "#Final decline\n",
    "declined = LogEntry.objects.filter(study_maternal_identifier__in=success_log_entries_ids,\n",
    "                                   appt='No')\n",
    "\n",
    "declined_ids = declined.values_list('study_maternal_identifier', flat=True)\n",
    "\n",
    "\n",
    "# All not continued contract and not consented\n",
    "\n",
    "not_continued_contact_not_consented = list(set(td_uncosent_pids)-set(continued_contact))\n",
    "\n",
    "qs = LogEntry.objects.filter(study_maternal_identifier__in=not_continued_contact_not_consented)\n",
    "\n",
    "qs_data = []\n",
    "\n",
    "for obj in qs:\n",
    "    obj_dict = obj.__dict__\n",
    "    del obj_dict['_state']\n",
    "    del obj_dict['device_created']\n",
    "    del obj_dict['device_modified']\n",
    "    del obj_dict['modified']\n",
    "    del obj_dict['created']\n",
    "    del obj_dict['revision']    \n",
    "    del obj_dict['user_created']\n",
    "    del obj_dict['user_modified']\n",
    "    del obj_dict['hostname_created']\n",
    "    del obj_dict['hostname_modified']\n",
    "    del obj_dict['log_id']\n",
    "    \n",
    "    qs_data.append(obj_dict)\n",
    "\n",
    "df = pd.DataFrame(qs_data)\n",
    "df.to_csv('log_entries_no_consent_not_continued_contact.csv', sep=',', encoding='utf-8')\n",
    "\n",
    "\n",
    "data_attemps_dict = {'TD HUU Continued Contact': len(continued_contact)}\n",
    "\n",
    "print('TD HUU Continued Contact: ', len(continued_contact))\n",
    "print('TD HUU Not COntinued Contact Not Consented: ', len(not_continued_contact_not_consented))\n",
    "\n",
    "data = [\n",
    "    ['total_continued_contact_td_huu.csv', continued_contact],\n",
    "    ['total_no_concent_not_continued_contact_td_huu.csv', not_continued_contact_not_consented]\n",
    "]\n",
    "\n",
    "for d in data:\n",
    "    with open(d[0], 'w') as f:\n",
    "        writer = csv.writer(f)\n",
    "        for val in d[1]:\n",
    "            writer.writerow([val])"
   ]
  },
  {
   "cell_type": "code",
   "execution_count": 68,
   "id": "4ba991d0",
   "metadata": {},
   "outputs": [
    {
     "name": "stdout",
     "output_type": "stream",
     "text": [
      "TD HUU Unreacheble:  0\n"
     ]
    }
   ],
   "source": [
    "may_not_call = LogEntry.objects.filter(study_maternal_identifier__in=success_log_entries_ids,\n",
    "                                       may_call__icontains='no_')\n",
    "\n",
    "may_not_call_ids = may_not_call.values_list('study_maternal_identifier', flat=True)\n",
    "\n",
    "print('TD HUU Unreacheble: ', len(unreacheble))\n",
    "\n",
    "data = [\n",
    "    ['total_unreacheble_td_huu.csv', unreacheble]\n",
    "]\n",
    "\n",
    "for d in data:\n",
    "    with open(d[0], 'w') as f:\n",
    "        writer = csv.writer(f)\n",
    "        for val in d[1]:\n",
    "            writer.writerow([val])"
   ]
  },
  {
   "cell_type": "code",
   "execution_count": 69,
   "id": "06663dba",
   "metadata": {},
   "outputs": [],
   "source": []
  },
  {
   "cell_type": "code",
   "execution_count": null,
   "id": "3fe08058",
   "metadata": {},
   "outputs": [],
   "source": [
    "#unsuccesssuccess contact unconsented huu\n",
    "unsucessful_log_entries = LogEntry.objects.filter(phone_num_success=['none_of_the_above'],\n",
    "                                                 study_maternal_identifier__in=td_uncosent_md_pids).exclude(\n",
    "    study_maternal_identifier__in=success_log_entries_ids)\n",
    "\n",
    "unsucessful_log_entries.count()\n",
    "\n",
    "# Merge the 2 above lists\n",
    "identifiers = screened_identifiers + declined_do_not_call\n",
    "identifiers = list(set(identifiers) - set(consented_md_pids))\n",
    "\n",
    "print('TD HUU Declined: ', len(identifiers))\n",
    "\n",
    "data = [\n",
    "    ['total_declined_td_huu.csv', identifiers]\n",
    "]\n",
    "\n",
    "for d in data:\n",
    "    with open(d[0], 'w') as f:\n",
    "        writer = csv.writer(f)\n",
    "        for val in d[1]:\n",
    "            writer.writerow([val])"
   ]
  },
  {
   "cell_type": "code",
   "execution_count": 7,
   "id": "5c1c4ea0",
   "metadata": {},
   "outputs": [],
   "source": []
  },
  {
   "cell_type": "code",
   "execution_count": 13,
   "id": "12edd30f",
   "metadata": {},
   "outputs": [],
   "source": []
  },
  {
   "cell_type": "code",
   "execution_count": 16,
   "id": "b9471107",
   "metadata": {},
   "outputs": [],
   "source": []
  },
  {
   "cell_type": "code",
   "execution_count": null,
   "id": "4c84ee6a",
   "metadata": {},
   "outputs": [],
   "source": []
  },
  {
   "cell_type": "code",
   "execution_count": null,
   "id": "4169af5e",
   "metadata": {},
   "outputs": [],
   "source": []
  },
  {
   "cell_type": "code",
   "execution_count": null,
   "id": "651c968b",
   "metadata": {},
   "outputs": [],
   "source": []
  }
 ],
 "metadata": {
  "kernelspec": {
   "display_name": "Django Shell-Plus",
   "language": "python",
   "name": "django_extensions"
  },
  "language_info": {
   "codemirror_mode": {
    "name": "ipython",
    "version": 3
   },
   "file_extension": ".py",
   "mimetype": "text/x-python",
   "name": "python",
   "nbconvert_exporter": "python",
   "pygments_lexer": "ipython3",
   "version": "3.9.0"
  }
 },
 "nbformat": 4,
 "nbformat_minor": 5
}
