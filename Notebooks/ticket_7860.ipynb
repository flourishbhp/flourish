{
 "cells": [
  {
   "cell_type": "code",
   "execution_count": null,
   "id": "bbfb29cd",
   "metadata": {},
   "outputs": [],
   "source": [
    "import os\n",
    "import pytz\n",
    "os.environ[\"DJANGO_ALLOW_ASYNC_UNSAFE\"] = \"true\"\n",
    "\n",
    "from django.apps import apps as django_apps\n",
    "from django.db.models.signals import post_save, post_delete\n",
    "from edc_base.utils import get_utcnow\n",
    "from edc_appointment.models import Appointment\n",
    "from edc_appointment.constants import NEW_APPT\n",
    "from edc_visit_schedule import site_visit_schedules\n",
    "\n",
    "from copy import copy"
   ]
  },
  {
   "cell_type": "code",
   "execution_count": null,
   "id": "2cf4b1b7",
   "metadata": {},
   "outputs": [],
   "source": [
    "subject_identifier = 'R142-040990113-8'\n",
    "child_subject_identifier = 'B142-040990113-8-10'"
   ]
  },
  {
   "cell_type": "code",
   "execution_count": null,
   "id": "db90de3b",
   "metadata": {},
   "outputs": [],
   "source": [
    "def update_forms_visit(forms, visit=None, new_visit=None, form_type='crf'):\n",
    "    for form in forms:\n",
    "        kwargs = {}\n",
    "        model_cls = django_apps.get_model(form.model)\n",
    "        if form_type == 'requisition':\n",
    "            kwargs = {'panel__name': form.panel_name}\n",
    "            post_save.disconnect(dispatch_uid='senaite_sample_create_on_post_save')\n",
    "        try:\n",
    "            model_obj = model_cls.objects.get(maternal_visit=visit, **kwargs)\n",
    "        except model_cls.DoesNotExist:\n",
    "            continue\n",
    "        else:\n",
    "            print(model_obj)\n",
    "            model_obj.maternal_visit = new_visit\n",
    "            model_obj.save()"
   ]
  },
  {
   "cell_type": "code",
   "execution_count": null,
   "id": "01484eec",
   "metadata": {},
   "outputs": [],
   "source": [
    "appt_list = ['appt_type', 'appt_status', 'appt_reason', 'comment', 'appt_datetime']"
   ]
  },
  {
   "cell_type": "code",
   "execution_count": null,
   "id": "d4f6f240",
   "metadata": {},
   "outputs": [],
   "source": [
    "visit = ChildVisit.objects.get(subject_identifier=child_subject_identifier, visit_code='2000')\n",
    "enrol_dt = visit.report_datetime"
   ]
  },
  {
   "cell_type": "code",
   "execution_count": null,
   "id": "5378b680",
   "metadata": {},
   "outputs": [],
   "source": [
    "post_save.disconnect(dispatch_uid='maternal_visit_on_post_save')\n",
    "\n",
    "\n",
    "onschedules = SubjectScheduleHistory.objects.filter(\n",
    "    subject_identifier=subject_identifier).exclude(created__date=get_utcnow().date()).order_by('onschedule_datetime')\n",
    "for onschedule in onschedules:\n",
    "    print(onschedule.schedule_name)\n",
    "    import pdb;pdb.set_trace()\n",
    "    try:\n",
    "        csh = CohortSchedules.objects.get(schedule_name=onschedule.schedule_name)\n",
    "    except CohortSchedules.DoesNotExist:\n",
    "        print('meh')\n",
    "    else:\n",
    "        swap_csh = CohortSchedules.objects.get(\n",
    "            schedule_type=csh.schedule_type,\n",
    "            child_count=csh.child_count,\n",
    "            cohort_name='cohort_c')\n",
    "        _, schedule = site_visit_schedules.get_by_onschedule_model_schedule_name(\n",
    "            onschedule_model=swap_csh.onschedule_model, name=swap_csh.schedule_name)\n",
    "\n",
    "        if not schedule.is_onschedule(\n",
    "            subject_identifier=subject_identifier, report_datetime=onschedule.onschedule_datetime):\n",
    "            base_appt_datetime = onschedule.onschedule_datetime\n",
    "            if 'quart' in swap_csh.schedule_name:\n",
    "                base_appt_datetime = enrol_dt\n",
    "            schedule.put_on_schedule(\n",
    "                subject_identifier=onschedule.subject_identifier, \n",
    "                onschedule_datetime=onschedule.onschedule_datetime,\n",
    "                schedule_name=swap_csh.schedule_name,\n",
    "                base_appt_datetime=base_appt_datetime)\n",
    "            onschedule_cls = django_apps.get_model(swap_csh.onschedule_model)\n",
    "\n",
    "            onsch = onschedule_cls.objects.get(\n",
    "                subject_identifier=subject_identifier,\n",
    "                schedule_name=swap_csh.schedule_name)\n",
    "            onsch.child_subject_identifier=child_subject_identifier\n",
    "            onsch.onschedule_datetime = onschedule.onschedule_datetime\n",
    "            onsch.save()\n",
    "\n",
    "            complete_appts = Appointment.objects.filter(\n",
    "                subject_identifier=subject_identifier,\n",
    "                schedule_name=onschedule.schedule_name, ).exclude(appt_status=NEW_APPT)\n",
    "\n",
    "            for appt in complete_appts:\n",
    "                # Get corresponding appt\n",
    "                new_appt = Appointment.objects.filter(subject_identifier=subject_identifier,\n",
    "                                                      visit_code=appt.visit_code,\n",
    "                                                      visit_code_sequence=appt.visit_code_sequence,\n",
    "                                                      schedule_name=swap_csh.schedule_name)\n",
    "                if new_appt.exists():\n",
    "                    appt_dict = {key: getattr(appt, key) for key in appt_list}\n",
    "                    new_appt.update(**appt_dict)\n",
    "                    try:\n",
    "                        visit = MaternalVisit.objects.get(appointment=appt)\n",
    "                    except MaternalVisit.DoesNotExist:\n",
    "                        continue\n",
    "                    else:\n",
    "                        new_visit = copy(visit)\n",
    "                        new_visit.pk = None\n",
    "                        new_visit.appointment = new_appt[0]\n",
    "                        new_visit.schedule_name = new_appt[0].schedule_name\n",
    "                        new_visit.visit_schedule_name = new_appt[0].visit_schedule_name\n",
    "                        new_visit.save()\n",
    "\n",
    "                        crfs = CrfMetadata.objects.filter(\n",
    "                            subject_identifier=subject_identifier,\n",
    "                            visit_code=visit.visit_code,\n",
    "                            visit_code_sequence=visit.visit_code_sequence,\n",
    "                            schedule_name=visit.schedule_name,\n",
    "                            entry_status='KEYED')\n",
    "                        print(visit, new_visit)\n",
    "                        update_forms_visit(forms=crfs, visit=visit, new_visit=new_visit)\n",
    "\n",
    "                        reqs = RequisitionMetadata.objects.filter(\n",
    "                            subject_identifier=subject_identifier,\n",
    "                            visit_code=visit.visit_code,\n",
    "                            visit_code_sequence=visit.visit_code_sequence,\n",
    "                            schedule_name=visit.schedule_name,\n",
    "                            entry_status='KEYED')\n",
    "                        update_forms_visit(forms=reqs, visit=visit, new_visit=new_visit, form_type='requisition')\n",
    "                        visit.save()"
   ]
  },
  {
   "cell_type": "code",
   "execution_count": null,
   "id": "8c3cb95f",
   "metadata": {},
   "outputs": [],
   "source": [
    "post_delete.disconnect(dispatch_uid='metadata_reset_on_post_delete')\n",
    "\n",
    "onschedule_cls = [OnScheduleCohortBSec, OnScheduleCohortBSecQuart]\n",
    "for onsch_cls in onschedule_cls:\n",
    "    onsch = onsch_cls.objects.get(subject_identifier=subject_identifier)\n",
    "    ssh = SubjectScheduleHistory.objects.get(subject_identifier=subject_identifier,\n",
    "                                             schedule_name=onsch.schedule_name)\n",
    "    appts = Appointment.objects.filter(subject_identifier=subject_identifier,\n",
    "                                       schedule_name=onsch.schedule_name)\n",
    "    for appt in appts:\n",
    "        MaternalVisit.objects.filter(appointment=appt).delete()\n",
    "    appts.delete()\n",
    "    ssh.delete()\n",
    "    onsch.delete()"
   ]
  },
  {
   "cell_type": "code",
   "execution_count": null,
   "id": "2b359d2b",
   "metadata": {},
   "outputs": [],
   "source": [
    "visit_code = 2001\n",
    "while visit_code < 2014:\n",
    "    appt = Appointment.objects.get(\n",
    "        subject_identifier=subject_identifier, visit_code=f'{visit_code}M')\n",
    "    appt.delete()\n",
    "    visit_code += 1"
   ]
  },
  {
   "cell_type": "code",
   "execution_count": null,
   "id": "9067b8ab",
   "metadata": {},
   "outputs": [],
   "source": []
  }
 ],
 "metadata": {
  "kernelspec": {
   "display_name": "Django Shell-Plus",
   "language": "python",
   "name": "django_extensions"
  },
  "language_info": {
   "codemirror_mode": {
    "name": "ipython",
    "version": 3
   },
   "file_extension": ".py",
   "mimetype": "text/x-python",
   "name": "python",
   "nbconvert_exporter": "python",
   "pygments_lexer": "ipython3",
   "version": "3.8.13"
  }
 },
 "nbformat": 4,
 "nbformat_minor": 5
}
