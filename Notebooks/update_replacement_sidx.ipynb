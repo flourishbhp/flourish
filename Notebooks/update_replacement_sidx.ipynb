{
 "cells": [
  {
   "cell_type": "code",
   "execution_count": 37,
   "id": "ac44969f",
   "metadata": {},
   "outputs": [],
   "source": [
    "# Imports\n",
    "import os\n",
    "from django.apps import apps as django_apps\n",
    "from edc_appointment.models import Appointment\n",
    "os.environ[\"DJANGO_ALLOW_ASYNC_UNSAFE\"] = \"true\""
   ]
  },
  {
   "cell_type": "code",
   "execution_count": 38,
   "id": "a5fb8072",
   "metadata": {},
   "outputs": [],
   "source": [
    "replacements = SubjectConsent.objects.filter(\n",
    "    Q(subject_identifier__startswith='BR') | Q(subject_identifier__startswith='CR')).values_list(\n",
    "    'subject_identifier', flat=True)\n",
    "sidxs = list(set(replacements))"
   ]
  },
  {
   "cell_type": "code",
   "execution_count": 39,
   "id": "5694cde1",
   "metadata": {},
   "outputs": [],
   "source": [
    "# Dataset, Screening, Caregiver Enrol Info, Locator, Subject Consent, RegisteredSubject,\n",
    "# Child Registered Subject, Schedules, Appointments, Visits, CRFs and Requisitions"
   ]
  },
  {
   "cell_type": "code",
   "execution_count": 40,
   "id": "99be2f67",
   "metadata": {},
   "outputs": [],
   "source": [
    "def get_model_objs(subject_identifier, model_cls):\n",
    "    model_objs = model_cls.objects.filter(subject_identifier=subject_identifier)\n",
    "    return model_objs"
   ]
  },
  {
   "cell_type": "code",
   "execution_count": 41,
   "id": "9b5b7f0e",
   "metadata": {},
   "outputs": [],
   "source": [
    "def get_onschedule_obj(subject_identifier, model_cls):\n",
    "    onschedules = model_cls.objects.filter(subject_identifier=subject_identifier)\n",
    "    return onschedules"
   ]
  },
  {
   "cell_type": "code",
   "execution_count": 42,
   "id": "e26836ca",
   "metadata": {},
   "outputs": [],
   "source": [
    "def get_crf_requisition(subject_identifier, model_cls):\n",
    "    crf_requisition = model_cls.objects.filter(maternal_visit__subject_identifier=subject_identifier)\n",
    "    return crf_requisition"
   ]
  },
  {
   "cell_type": "code",
   "execution_count": 43,
   "id": "1a6e84d5",
   "metadata": {},
   "outputs": [],
   "source": [
    "def get_references(subject_identifier):\n",
    "    return Reference.objects.filter(identifier=subject_identifier)"
   ]
  },
  {
   "cell_type": "code",
   "execution_count": 44,
   "id": "df1addaa",
   "metadata": {},
   "outputs": [],
   "source": [
    "def get_action_items(subject_identifier):\n",
    "    return ActionItem.objects.filter(subject_identifier=subject_identifier)"
   ]
  },
  {
   "cell_type": "code",
   "execution_count": 51,
   "id": "166bd19b",
   "metadata": {},
   "outputs": [
    {
     "name": "stdout",
     "output_type": "stream",
     "text": [
      "1\n",
      "1\n",
      "1\n",
      "1\n",
      "1\n",
      "1\n",
      "1\n",
      "<QuerySet []>\n",
      "[]\n",
      "9\n",
      "4\n",
      "<QuerySet []>\n",
      "[]\n",
      "<QuerySet []>\n",
      "[]\n",
      "20\n",
      "0\n",
      "1\n",
      "1\n",
      "1\n",
      "1\n",
      "1\n",
      "1\n",
      "1\n",
      "<QuerySet []>\n",
      "[]\n",
      "11\n",
      "6\n",
      "<QuerySet []>\n",
      "[]\n",
      "<QuerySet []>\n",
      "[]\n",
      "38\n",
      "0\n",
      "1\n",
      "1\n",
      "1\n",
      "1\n",
      "1\n",
      "1\n",
      "1\n",
      "<QuerySet []>\n",
      "[]\n",
      "9\n",
      "4\n",
      "<QuerySet []>\n",
      "[]\n",
      "<QuerySet []>\n",
      "[]\n",
      "16\n",
      "0\n",
      "1\n",
      "1\n",
      "1\n",
      "1\n",
      "1\n",
      "1\n",
      "1\n",
      "<QuerySet []>\n",
      "[]\n",
      "10\n",
      "5\n",
      "<QuerySet []>\n",
      "[]\n",
      "<QuerySet []>\n",
      "[]\n",
      "21\n",
      "0\n",
      "1\n",
      "1\n",
      "1\n",
      "1\n",
      "1\n",
      "1\n",
      "1\n",
      "<QuerySet []>\n",
      "[]\n",
      "8\n",
      "3\n",
      "<QuerySet []>\n",
      "[]\n",
      "<QuerySet []>\n",
      "[]\n",
      "17\n",
      "0\n"
     ]
    }
   ],
   "source": [
    "for sidx in sidxs:\n",
    "    new_sidx = sidx.replace('B', '') if sidx.startswith('B') else sidx.replace('C', '')\n",
    "\n",
    "    datasets = get_model_objs(sidx, MaternalDataset).update(subject_identifier=new_sidx)\n",
    "    screenings = get_model_objs(sidx, ScreeningPriorBhpParticipants).update(subject_identifier=new_sidx)\n",
    "    enrol_infos = get_model_objs(sidx, CaregiverPreviouslyEnrolled).update(subject_identifier=new_sidx)\n",
    "    locators = get_model_objs(sidx, CaregiverLocator).update(subject_identifier=new_sidx)\n",
    "    consents = get_model_objs(sidx, SubjectConsent).update(subject_identifier=new_sidx)\n",
    "    caregiver_reg = get_model_objs(sidx, RegisteredSubject).update(subject_identifier=new_sidx)\n",
    "\n",
    "    child_reg = RegisteredSubject.objects.filter(relative_identifier=sidx).update(relative_identifier=new_sidx)\n",
    "\n",
    "    schedules = SubjectScheduleHistory.objects.filter(subject_identifier=sidx)\n",
    "\n",
    "    onschedules = []\n",
    "    for schedule in schedules:\n",
    "        onschedule_model_cls = django_apps.get_model(schedule.onschedule_model)\n",
    "        get_onschedule_obj(sidx, onschedule_model_cls).update(subject_identifier=new_sidx)\n",
    "    schedules.update(subject_identifier=new_sidx)\n",
    "\n",
    "    appts = Appointment.objects.filter(subject_identifier=sidx).update(subject_identifier=new_sidx)\n",
    "    visits = MaternalVisit.objects.filter(subject_identifier=sidx).update(subject_identifier=new_sidx)\n",
    "\n",
    "    crf_metadata = CrfMetadata.objects.filter(subject_identifier=sidx)\n",
    "\n",
    "    keyed_crf_metadata = crf_metadata.filter(entry_status='KEYED').values_list('model', flat=True)\n",
    "    keyed_crf_metadata = list(set(keyed_crf_metadata))\n",
    "    crf_objs = []\n",
    "    for crf in keyed_crf_metadata:\n",
    "        crf_model_cls = django_apps.get_model(crf)\n",
    "        crf_objs.append(get_crf_requisition(sidx, crf_model_cls))\n",
    "    crf_metadata.update(subject_identifier=new_sidx)\n",
    "\n",
    "    requisition_metadata = RequisitionMetadata.objects.filter(subject_identifier=sidx)\n",
    "\n",
    "    keyed_req_metadata = requisition_metadata.filter(entry_status='KEYED').values_list('model', flat=True)\n",
    "    keyed_req_metadata = list(set(keyed_req_metadata))\n",
    "    req_objs = []\n",
    "    for requisition in keyed_req_metadata:\n",
    "        req_model_cls = django_apps.get_model(requisition)\n",
    "        req_objs.append(get_crf_requisition(sidx, req_model_cls))\n",
    "    requisition_metadata.update(subject_identifier=new_sidx)\n",
    "\n",
    "    references = get_references(sidx).update(identifier=new_sidx)\n",
    "    action_items = get_action_items(sidx).update(subject_identifier=new_sidx)\n",
    "\n",
    "    print(datasets)\n",
    "    print(screenings)\n",
    "    print(enrol_infos)\n",
    "    print(locators)\n",
    "    print(consents)\n",
    "    print(caregiver_reg)\n",
    "    print(child_reg)\n",
    "    print(schedules)\n",
    "    print(onschedules)\n",
    "    print(appts)\n",
    "    print(visits)\n",
    "    print(crf_metadata)\n",
    "    print(crf_objs)\n",
    "    print(requisition_metadata)\n",
    "    print(req_objs)\n",
    "    print(references)\n",
    "    print(action_items)"
   ]
  },
  {
   "cell_type": "code",
   "execution_count": 61,
   "id": "9ac2aae7",
   "metadata": {},
   "outputs": [],
   "source": [
    "pids = ['R142-040990631-9', 'R142-040990642-6', 'R142-040990257-3', 'R142-040990903-2', 'R142-040990227-6']\n",
    "for pid in pids:\n",
    "    schedules = SubjectScheduleHistory.objects.filter(subject_identifier=pid)\n",
    "    for schedule in schedules:\n",
    "        onschedule_model_cls = django_apps.get_model(schedule.onschedule_model)\n",
    "        get_onschedule_obj(f'C{schedule.subject_identifier}', onschedule_model_cls).update(\n",
    "            subject_identifier=schedule.subject_identifier)\n",
    "        get_onschedule_obj(f'B{schedule.subject_identifier}', onschedule_model_cls).update(\n",
    "            subject_identifier=schedule.subject_identifier)"
   ]
  },
  {
   "cell_type": "code",
   "execution_count": 62,
   "id": "9450708e",
   "metadata": {},
   "outputs": [
    {
     "data": {
      "text/plain": [
       "<QuerySet [<OnScheduleCohortBSec: R142-040990642-6 2022-12-14>]>"
      ]
     },
     "execution_count": 62,
     "metadata": {},
     "output_type": "execute_result"
    }
   ],
   "source": [
    "OnScheduleCohortBSec.objects.filter(subject_identifier='R142-040990642-6')"
   ]
  },
  {
   "cell_type": "code",
   "execution_count": null,
   "id": "c432c6cb",
   "metadata": {},
   "outputs": [],
   "source": []
  }
 ],
 "metadata": {
  "kernelspec": {
   "display_name": "Django Shell-Plus",
   "language": "python",
   "name": "django_extensions"
  },
  "language_info": {
   "codemirror_mode": {
    "name": "ipython",
    "version": 3
   },
   "file_extension": ".py",
   "mimetype": "text/x-python",
   "name": "python",
   "nbconvert_exporter": "python",
   "pygments_lexer": "ipython3",
   "version": "3.8.13"
  }
 },
 "nbformat": 4,
 "nbformat_minor": 5
}
