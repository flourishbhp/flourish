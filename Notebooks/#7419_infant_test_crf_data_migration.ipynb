{
 "cells": [
  {
   "cell_type": "code",
   "execution_count": 1,
   "id": "initial_id",
   "metadata": {
    "collapsed": true,
    "ExecuteTime": {
     "end_time": "2024-04-03T08:15:10.832381Z",
     "start_time": "2024-04-03T08:15:03.994670Z"
    }
   },
   "outputs": [
    {
     "name": "stdout",
     "output_type": "stream",
     "text": [
      "  * Reading config from flourish.ini\n",
      "Loading Data Encryption (init)...\n",
      " * loading keys from /Users/nimrodmunatsi/source/flourish-code-space/flourish/crypto_fields\n",
      " * loading rsa.restricted.public ... Done.\n",
      " * loading rsa.restricted.private ... Done.\n",
      " * loading rsa.local.public ... Done.\n",
      " * loading rsa.local.private ... Done.\n",
      " * loading aes.local ... Done.\n",
      " * loading aes.restricted ... Done.\n",
      " * loading salt.local ... Done.\n",
      " * loading salt.restricted ... Done.\n",
      " Done loading Data Encryption (init)...\n"
     ]
    },
    {
     "name": "stderr",
     "output_type": "stream",
     "text": [
      "/Users/nimrodmunatsi/.venv/flourish/lib/python3.9/site-packages/django_q/conf.py:139: UserWarning: Retry and timeout are misconfigured. Set retry larger than timeout, \n",
      "        failure to do so will cause the tasks to be retriggered before completion. \n",
      "        See https://django-q.readthedocs.io/en/latest/configure.html#retry for details.\n",
      "  warn(\n",
      "/Users/nimrodmunatsi/.venv/flourish/lib/python3.9/site-packages/simple_history/models.py:164: UserWarning: HistoricalRecords added to abstract model (HistoryManagerMixin) without inherit=True\n",
      "  warnings.warn(msg, UserWarning)\n",
      "/Users/nimrodmunatsi/.venv/flourish/lib/python3.9/site-packages/simple_history/models.py:164: UserWarning: HistoricalRecords added to abstract model (ScheduleModelMixin) without inherit=True\n",
      "  warnings.warn(msg, UserWarning)\n",
      "/Users/nimrodmunatsi/.venv/flourish/lib/python3.9/site-packages/simple_history/models.py:164: UserWarning: HistoricalRecords added to abstract model (VisitModelMixin) without inherit=True\n",
      "  warnings.warn(msg, UserWarning)\n",
      "/Users/nimrodmunatsi/.venv/flourish/lib/python3.9/site-packages/simple_history/models.py:164: UserWarning: HistoricalRecords added to abstract model (OnScheduleModelMixin) without inherit=True\n",
      "  warnings.warn(msg, UserWarning)\n",
      "/Users/nimrodmunatsi/.venv/flourish/lib/python3.9/site-packages/simple_history/models.py:164: UserWarning: HistoricalRecords added to abstract model (OffStudyMixin) without inherit=True\n",
      "  warnings.warn(msg, UserWarning)\n",
      "/Users/nimrodmunatsi/.venv/flourish/lib/python3.9/site-packages/simple_history/models.py:164: UserWarning: HistoricalRecords added to abstract model (OnScheduleModelMixin) without inherit=True\n",
      "  warnings.warn(msg, UserWarning)\n"
     ]
    },
    {
     "name": "stdout",
     "output_type": "stream",
     "text": [
      "Loading Data Encryption ...\n",
      " * found encryption keys in /Users/nimrodmunatsi/source/flourish-code-space/flourish/crypto_fields.\n",
      " * using model django_crypto_fields.crypt.\n",
      " Done loading Data Encryption.\n",
      "Loading Edc Consent ...\n",
      " * checking for site consents ...\n",
      " * registered consents 'consents' from 'flourish_caregiver'\n",
      " * registered consents 'consents' from 'flourish_child'\n",
      " * registered consents 'consents' from 'pre_flourish'\n",
      " * registered consents 'consents' from 'flourish_facet'\n",
      " * flourish_caregiver.subjectconsent 1 covering 2020-07-01 UTC to 2025-06-30 UTC\n",
      " * flourish_caregiver.subjectconsent 2 covering 2020-07-01 UTC to 2025-06-30 UTC\n",
      " * flourish_caregiver.subjectconsent 3 covering 2020-07-01 UTC to 2025-06-30 UTC\n",
      " * flourish_caregiver.subjectconsent 4 covering 2020-07-01 UTC to 2025-06-30 UTC\n",
      " * flourish_caregiver.tbadolconsent 1 covering 2020-07-01 UTC to 2025-06-30 UTC\n",
      " * flourish_caregiver.tbinformedconsent 1 covering 2020-07-01 UTC to 2025-06-30 UTC\n",
      " * flourish_child.childdummysubjectconsent 1 covering 2020-07-01 UTC to 2025-06-30 UTC\n",
      " * flourish_child.childdummysubjectconsent 2 covering 2020-07-01 UTC to 2025-06-30 UTC\n",
      " * flourish_child.childdummysubjectconsent 2.1 covering 2020-07-01 UTC to 2025-06-30 UTC\n",
      " * flourish_child.childdummysubjectconsent 3 covering 2020-07-01 UTC to 2025-06-30 UTC\n",
      " * flourish_child.childdummysubjectconsent 4 covering 2020-07-01 UTC to 2025-06-30 UTC\n",
      " * flourish_facet.facetconsent 1 covering 2020-07-01 UTC to 2025-06-30 UTC\n",
      " * flourish_facet.motherchildconsent 1 covering 2020-07-01 UTC to 2025-06-30 UTC\n",
      " * pre_flourish.preflourishcaregiverchildconsent 1 covering 2020-07-01 UTC to 2025-06-30 UTC\n",
      " * pre_flourish.preflourishcaregiverchildconsent 4 covering 2020-07-01 UTC to 2025-06-30 UTC\n",
      " * pre_flourish.preflourishchilddummysubjectconsent 1 covering 2020-07-01 UTC to 2025-06-30 UTC\n",
      " * pre_flourish.preflourishchilddummysubjectconsent 4 covering 2020-07-01 UTC to 2025-06-30 UTC\n",
      " * pre_flourish.preflourishconsent 1 covering 2020-07-01 UTC to 2025-06-30 UTC\n",
      " * pre_flourish.preflourishconsent 4 covering 2020-07-01 UTC to 2025-06-30 UTC\n",
      " Done loading Edc Consent.\n",
      "Loading Edc Device ...\n",
      "  * device id is '99'.\n",
      "  * device role is 'CentralServer'.\n",
      " Done loading Edc Device.\n",
      "Loading Edc Identifier ...\n",
      " Warning: 'identifier_prefix' has not been explicitly set. Using default '999'. See AppConfig.\n",
      " * identifier prefix: 999\n",
      " * check-digit modulus: 7\n",
      " Done loading Edc Identifier\n",
      "Loading Edc Lab ...\n",
      " * checking for labs ...\n",
      " Done loading Edc Lab.\n",
      "Loading Edc Navbar ...\n",
      " * checking for site navbars ...\n",
      " * searching edc_consent           \r         * registered navbars 'navbars' from 'edc_consent'\n",
      " * registered navbars 'navbars' from 'edc_device'\n",
      " * registered navbars 'navbars' from 'edc_navbar'\n",
      " * registered navbars 'navbars' from 'edc_reference'\n",
      " * registered navbars 'navbars' from 'edc_visit_schedule'\n",
      " * registered navbars 'navbars' from 'flourish_export'\n",
      " * registered navbars 'navbars' from 'flourish_dashboard'\n",
      " * registered navbars 'navbars' from 'flourish_follow'\n",
      " * registered navbars 'navbars' from 'pre_flourish_follow'\n",
      " * registered navbars 'navbars' from 'flourish_reports'\n",
      " * registered navbars 'navbars' from 'edc_base'\n",
      " * registered navbars 'navbars' from 'edc_data_manager'\n",
      " * registered navbars 'navbars' from 'edc_odk'\n",
      " * registered navbars 'navbars' from 'edc_protocol'\n",
      " * registered navbars 'navbars' from 'edc_senaite_interface'\n",
      " * registered navbars 'navbars' from 'pre_flourish'\n",
      " * registered navbars 'navbars' from 'flourish_calendar'\n",
      " * registered navbars 'navbars' from 'flourish'\n",
      " * registered navbars 'navbars' from 'flourish_facet'\n",
      " Done loading Edc Navbar.             \n",
      " * checking for site prn_forms ...\n",
      "Loading Edc Registration ...                   \n",
      "  * using edc_registration.registeredsubject\n",
      " Done loading Edc Registration.\n",
      "Loading Edc Reference ...\n",
      " * checking for reference_model_configs ...\n",
      " * checking for labs ...\n",
      " * registered reference model configs from application 'flourish_reference'\n",
      " Done loading Edc Reference.\n",
      "Loading Visit Schedules ...\n",
      " * checking site for module 'visit_schedules' ...\n",
      " * registered visit schedule from 'flourish_visit_schedule'\n",
      " * registered visit schedule from 'pre_flourish'\n",
      " * registered visit schedule from 'flourish_facet'\n",
      " Done loading Visit Schedules.\n",
      "Loading EDC Call Manager ...\n",
      " * call models are in app edc_call_manager.\n",
      " * checking for site model_callers ...\n",
      " * registered model caller '<class 'flourish_follow.model_callers.model_callers.WorkListFollowUpModelCaller'>'\n",
      " * registered model caller '<class 'pre_flourish_follow.model_callers.model_callers.PreFlourishWorkListFollowUpModelCaller'>'\n",
      " Done loading EDC Call Manager.\n",
      "Loading edc_metadata_rules ...\n",
      " * checking for metadata_rules ...\n",
      "   - imported metadata rules from 'flourish_metadata_rules.metadata_rules'\n",
      "   - imported metadata rules from 'pre_flourish.metadata_rules'\n",
      "   - imported metadata rules from 'flourish_facet.metadata_rules'\n",
      " Done loading edc_metadata_rules.\n",
      "Loading Edc Appointments ...\n",
      " * edc_appointment.appointment.\n",
      " * pre_flourish.appointment.\n",
      " * flourish_child.appointment.\n",
      " * flourish_facet.appointment.\n",
      " Done loading Edc Appointments.\n",
      "Loading Edc Base ...\n",
      " * default TIME_ZONE Africa/Gaborone.\n",
      " Done loading Edc Base.\n",
      "Loading Edc Facility ...\n",
      " * 7-Day Clinic MO(100 slots), TU(100 slots), WE(100 slots), TH(100 slots), FR(100 slots), SA(100 slots), SU(100 slots).\n",
      " * 5-Day Clinic MO(100 slots), TU(100 slots), WE(100 slots), TH(100 slots), FR(100 slots).\n",
      " Done loading Edc Facility.\n",
      "Loading Edc Metadata ...\n",
      " * using default metadata models from 'edc_metadata'\n",
      " Done loading Edc Metadata.\n",
      "Loading Edc Protocol ...\n",
      " * BHP142: Flourish.\n",
      " * Study opening date: 2020-07-01 UTC\n",
      " * Expected study closing date: 2025-06-30 UTC\n",
      " Done loading Edc Protocol.\n",
      "Loading Edc Visit Tracking ...\n",
      " * flourish_caregiver.maternalvisit uses model attr 'maternal_visit'\n",
      " * flourish_child.childvisit uses model attr 'child_visit'\n",
      " * pre_flourish.preflourishvisit uses model attr 'pre_flourish_visit'\n",
      " * flourish_facet.facetvisit uses model attr 'facet_visit'\n",
      " Done loading Edc Visit Tracking.\n",
      "Loading Edc Timepoint ...\n",
      " * 'edc_appointment.appointment' is a timepoint model.\n",
      " * 'edc_appointment.historicalappointment' is a timepoint model.\n",
      " * 'pre_flourish.appointment' is a timepoint model.\n",
      " * 'flourish_facet.appointment' is a timepoint model.\n",
      " * 'flourish_child.appointment' is a timepoint model.\n",
      " * 'flourish_child.historicalappointment' is a timepoint model.\n",
      " Done loading Edc Timepoint.\n"
     ]
    }
   ],
   "source": [
    "import os\n",
    "import sys\n",
    "\n",
    "import django\n",
    "\n",
    "sys.path.append('../')  # add path to project root dir\n",
    "\n",
    "os.environ[\"DJANGO_SETTINGS_MODULE\"] = \"flourish.settings\"\n",
    "\n",
    "os.environ[\"DJANGO_ALLOW_ASYNC_UNSAFE\"] = \"true\"\n",
    "\n",
    "django.setup()"
   ]
  },
  {
   "cell_type": "code",
   "outputs": [
    {
     "name": "stderr",
     "output_type": "stream",
     "text": [
      "  0%|          | 0/265 [00:00<?, ?it/s]"
     ]
    },
    {
     "name": "stdout",
     "output_type": "stream",
     "text": [
      "Child visit 3001 does not exist for B142-040990558-4-60\n",
      "Child visit 2007 does not exist for B142-040990608-7-10\n"
     ]
    },
    {
     "name": "stderr",
     "output_type": "stream",
     "text": [
      "  6%|▋         | 17/265 [00:05<01:02,  4.00it/s]"
     ]
    },
    {
     "name": "stdout",
     "output_type": "stream",
     "text": [
      "Child visit 2003 does not exist for B142-040991053-5-10\n"
     ]
    },
    {
     "name": "stderr",
     "output_type": "stream",
     "text": [
      " 11%|█         | 29/265 [00:10<01:34,  2.51it/s]"
     ]
    },
    {
     "name": "stdout",
     "output_type": "stream",
     "text": [
      "Child visit 2001 does not exist for B142-040991137-6-10\n",
      "Child visit 2005 does not exist for B142-040990813-3-10\n"
     ]
    },
    {
     "name": "stderr",
     "output_type": "stream",
     "text": [
      " 23%|██▎       | 62/265 [00:20<01:32,  2.19it/s]"
     ]
    },
    {
     "name": "stdout",
     "output_type": "stream",
     "text": [
      "Child visit 2007 does not exist for B142-040990559-2-10\n"
     ]
    },
    {
     "name": "stderr",
     "output_type": "stream",
     "text": [
      " 32%|███▏      | 86/265 [00:24<00:37,  4.72it/s]"
     ]
    },
    {
     "name": "stdout",
     "output_type": "stream",
     "text": [
      "Child visit 2001 does not exist for B142-040991094-9-10\n"
     ]
    },
    {
     "name": "stderr",
     "output_type": "stream",
     "text": [
      " 38%|███▊      | 100/265 [00:29<01:05,  2.53it/s]"
     ]
    },
    {
     "name": "stdout",
     "output_type": "stream",
     "text": [
      "Child visit 2001 does not exist for B142-040991154-1-10\n"
     ]
    },
    {
     "name": "stderr",
     "output_type": "stream",
     "text": [
      " 44%|████▍     | 116/265 [00:33<00:45,  3.27it/s]"
     ]
    },
    {
     "name": "stdout",
     "output_type": "stream",
     "text": [
      "Child visit 2004 does not exist for B142-040990931-3-10\n"
     ]
    },
    {
     "name": "stderr",
     "output_type": "stream",
     "text": [
      " 56%|█████▌    | 149/265 [00:45<00:42,  2.72it/s]"
     ]
    },
    {
     "name": "stdout",
     "output_type": "stream",
     "text": [
      "Child visit 2001 does not exist for B142-040991129-3-10\n"
     ]
    },
    {
     "name": "stderr",
     "output_type": "stream",
     "text": [
      " 62%|██████▏   | 163/265 [00:47<00:22,  4.47it/s]"
     ]
    },
    {
     "name": "stdout",
     "output_type": "stream",
     "text": [
      "Child visit 3001 does not exist for B142-040990479-3-10\n",
      "Child visit 3001 does not exist for B142-040990563-4-10\n"
     ]
    },
    {
     "name": "stderr",
     "output_type": "stream",
     "text": [
      " 68%|██████▊   | 179/265 [00:52<00:31,  2.74it/s]"
     ]
    },
    {
     "name": "stdout",
     "output_type": "stream",
     "text": [
      "Child visit 3002 does not exist for B142-040990443-9-10\n",
      "Child visit 2001 does not exist for B142-040990369-6-60\n"
     ]
    },
    {
     "name": "stderr",
     "output_type": "stream",
     "text": [
      " 69%|██████▉   | 184/265 [00:54<00:30,  2.68it/s]"
     ]
    },
    {
     "name": "stdout",
     "output_type": "stream",
     "text": [
      "Child visit 3000 does not exist for B142-040990546-9-10\n"
     ]
    },
    {
     "name": "stderr",
     "output_type": "stream",
     "text": [
      " 77%|███████▋  | 204/265 [01:03<00:26,  2.30it/s]"
     ]
    },
    {
     "name": "stdout",
     "output_type": "stream",
     "text": [
      "Child visit 2006 does not exist for B142-040990646-7-10\n",
      "Child visit 2001 does not exist for B142-040991120-2-10\n"
     ]
    },
    {
     "name": "stderr",
     "output_type": "stream",
     "text": [
      " 83%|████████▎ | 219/265 [01:08<00:23,  1.99it/s]"
     ]
    },
    {
     "name": "stdout",
     "output_type": "stream",
     "text": [
      "Child visit 2001 does not exist for B142-040991156-6-10\n"
     ]
    },
    {
     "name": "stderr",
     "output_type": "stream",
     "text": [
      " 91%|█████████ | 241/265 [01:13<00:07,  3.26it/s]"
     ]
    },
    {
     "name": "stdout",
     "output_type": "stream",
     "text": [
      "Child visit 2001 does not exist for B142-040991130-1-10\n"
     ]
    },
    {
     "name": "stderr",
     "output_type": "stream",
     "text": [
      "100%|██████████| 265/265 [01:18<00:00,  3.36it/s]\n"
     ]
    }
   ],
   "source": [
    "import json\n",
    "from datetime import datetime\n",
    "import pytz\n",
    "from tqdm import tqdm\n",
    "from edc_constants.constants import NO\n",
    "from edc_base.utils import age\n",
    "from flourish_caregiver.models import CaregiverChildConsent\n",
    "from flourish_child.models import ChildVisit, InfantHIVTesting18Months, \\\n",
    "    InfantHIVTesting9Months, \\\n",
    "    InfantHIVTestingAge6To8Weeks, InfantHIVTestingBirth, InfantHIVTestingOther\n",
    "\n",
    "\n",
    "def read_json_file(file_path):\n",
    "    with open(file_path, 'r') as json_file:\n",
    "        data = json.load(json_file)\n",
    "    return data\n",
    "\n",
    "def fetch_child_consent(subject_identifier):\n",
    "    return CaregiverChildConsent.objects.filter(subject_identifier=subject_identifier).latest('consent_datetime')\n",
    "\n",
    "def fetch_child_visit(subject_identifier, visit):\n",
    "    return ChildVisit.objects.get(visit_code=visit[3],\n",
    "                                  subject_identifier=subject_identifier,\n",
    "                                  visit_code_sequence=visit[4])\n",
    "def age_at_test_in_weeks(child_dob, report_datetime):\n",
    "    age_at_test = age(child_dob, report_datetime)\n",
    "    return (age_at_test.years * 52.143) + (age_at_test.months * 4.348)\n",
    "\n",
    "def create_or_update_infant_hiv_testing(test_obj_class, options):\n",
    "    try:\n",
    "        test_obj = test_obj_class.objects.get(child_visit=options['child_visit'])\n",
    "        for attr, value in options.items():\n",
    "            setattr(test_obj, attr, value)\n",
    "        test_obj.save()\n",
    "    except test_obj_class.DoesNotExist:\n",
    "        test_obj = test_obj_class.objects.create(**options)\n",
    "    return test_obj\n",
    "\n",
    "def read_and_update_infant_hiv_tests():\n",
    "    infant_hiv_test_objs = read_json_file(\n",
    "        '/Users/nimrodmunatsi/Downloads/infanthivtesting.json')\n",
    "\n",
    "    for infant_hiv_test_obj in tqdm(infant_hiv_test_objs):\n",
    "        if infant_hiv_test_obj.get('fields').get(\n",
    "                'child_tested_for_hiv') in [NO, 'Dont_know']:\n",
    "            continue\n",
    "\n",
    "        visit = infant_hiv_test_obj.get('fields').get('child_visit')\n",
    "        subject_identifier = visit[0]\n",
    "        child_consent = fetch_child_consent(subject_identifier)\n",
    "        if not (child_consent.child_dob and infant_hiv_test_obj.get('fields').get(\n",
    "                'child_test_date')):\n",
    "            continue\n",
    "\n",
    "        report_datetime = datetime.strptime(infant_hiv_test_obj.get('fields').get('report_datetime'), \"%Y-%m-%dT%H:%M:%SZ\").replace(tzinfo=pytz.UTC)\n",
    "\n",
    "        try:\n",
    "            age_at_test_weeks = age_at_test_in_weeks(child_consent.child_dob, report_datetime)\n",
    "        except ValueError:\n",
    "            print(f'Child {subject_identifier}\\'s dob {child_consent.child_dob} '\n",
    "                  f'is less than the test date {report_datetime}')\n",
    "            continue\n",
    "\n",
    "        try:\n",
    "            child_visit = fetch_child_visit(subject_identifier, visit)\n",
    "        except ChildVisit.DoesNotExist:\n",
    "            print(f'Child visit {visit[3]} does not exist for {subject_identifier}')\n",
    "            continue\n",
    "\n",
    "        base_fields = infant_hiv_test_obj.get('fields')\n",
    "\n",
    "        options = {\n",
    "            'child_visit': child_visit,\n",
    "            'report_datetime': child_visit.report_datetime,\n",
    "            'child_tested_for_hiv': base_fields.get('child_test_date'),\n",
    "            'child_test_date_estimated': base_fields.get('child_test_date_estimated'),\n",
    "            'results_received': base_fields.get('results_received'),\n",
    "            'recall_result_date': base_fields.get('recall_result_date'),\n",
    "            'received_date': base_fields.get('received_date'),\n",
    "            'result_date_estimated': base_fields.get('result_date_estimated'),\n",
    "            'hiv_test_result': base_fields.get('hiv_test_result'),\n",
    "            'additional_comments': base_fields.get('additional_comments'),\n",
    "        }\n",
    "\n",
    "        if 6 <= age_at_test_weeks <= 8:\n",
    "            create_or_update_infant_hiv_testing(InfantHIVTestingAge6To8Weeks, options)\n",
    "        elif age_at_test_weeks >= 9 * 4.348 and age_at_test_weeks < 10 * 4.348:  # 9 - 10 months\n",
    "            create_or_update_infant_hiv_testing(InfantHIVTesting9Months, options)\n",
    "        elif age_at_test_weeks >= 18 * 4.348 and age_at_test_weeks < 19 * 4.348:  # 18 months\n",
    "            create_or_update_infant_hiv_testing(InfantHIVTesting18Months, options)\n",
    "        elif age_at_test_weeks == 0:\n",
    "            create_or_update_infant_hiv_testing(InfantHIVTestingBirth, options)\n",
    "        else:\n",
    "            create_or_update_infant_hiv_testing(InfantHIVTestingOther, options)\n",
    "            \n",
    "            \n",
    "read_and_update_infant_hiv_tests()      \n"
   ],
   "metadata": {
    "collapsed": false,
    "ExecuteTime": {
     "end_time": "2024-04-03T08:16:29.633087Z",
     "start_time": "2024-04-03T08:15:10.835075Z"
    }
   },
   "id": "191498a57716ef56",
   "execution_count": 2
  },
  {
   "cell_type": "code",
   "outputs": [
    {
     "data": {
      "text/plain": "['ADMIN_SITE_NAME',\n 'DoesNotExist',\n 'Meta',\n 'MultipleObjectsReturned',\n '__class__',\n '__delattr__',\n '__dict__',\n '__dir__',\n '__doc__',\n '__eq__',\n '__format__',\n '__ge__',\n '__getattribute__',\n '__getstate__',\n '__gt__',\n '__hash__',\n '__init__',\n '__init_subclass__',\n '__le__',\n '__lt__',\n '__module__',\n '__ne__',\n '__new__',\n '__reduce__',\n '__reduce_ex__',\n '__repr__',\n '__setattr__',\n '__setstate__',\n '__sizeof__',\n '__str__',\n '__subclasshook__',\n '__weakref__',\n '_check_column_name_clashes',\n '_check_constraints',\n '_check_field_name_clashes',\n '_check_fields',\n '_check_id_field',\n '_check_index_together',\n '_check_indexes',\n '_check_local_fields',\n '_check_long_column_names',\n '_check_m2m_through_same_relationship',\n '_check_managers',\n '_check_model',\n '_check_model_name_db_lookup_clashes',\n '_check_ordering',\n '_check_property_name_related_field_accessor_clashes',\n '_check_single_primary_key',\n '_check_swappable',\n '_check_unique_together',\n '_check_visit_reason_keys',\n '_do_insert',\n '_do_update',\n '_get_FIELD_display',\n '_get_next_or_previous_by_FIELD',\n '_get_next_or_previous_in_order',\n '_get_pk_val',\n '_get_unique_checks',\n '_meta',\n '_perform_date_checks',\n '_perform_unique_checks',\n '_save_parents',\n '_save_table',\n '_set_pk_val',\n 'academicperformance',\n 'action_item_reason',\n 'admin_site_name',\n 'admin_url_name',\n 'adolescentclinicalmeasurements',\n 'appointment',\n 'appointment_id',\n 'appointment_zero',\n 'birthdata',\n 'birthexam',\n 'birthfeedingvaccine',\n 'brief2parent',\n 'brief2selfreported',\n 'check',\n 'check_device_permissions',\n 'childbirthscreening',\n 'childcbclsection1',\n 'childcbclsection2',\n 'childcbclsection3',\n 'childcbclsection4',\n 'childclinicalmeasurements',\n 'childcliniciannotes',\n 'childcovid19',\n 'childfoodsecurityquestionnaire',\n 'childgadanxietyscreening',\n 'childgadpostreferral',\n 'childgadreferral',\n 'childgadreferralfu',\n 'childhivrapidtestcounseling',\n 'childimmunizationhistory',\n 'childmedicalhistory',\n 'childpenncnb',\n 'childphqdepressionscreening',\n 'childphqpostreferral',\n 'childphqreferral',\n 'childphqreferralfu',\n 'childphysicalactivity',\n 'childpregtesting',\n 'childprevioushospitalization',\n 'childrequisition_set',\n 'childsocialworkreferral',\n 'childsociodemographic',\n 'childtannerstaging',\n 'childtbreferral',\n 'childtbreferraloutcome',\n 'childtbscreening',\n 'childworkingstatus',\n 'clean',\n 'clean_fields',\n 'comments',\n 'consent_model',\n 'consent_version',\n 'covid19adol',\n 'created',\n 'date_error_message',\n 'delete',\n 'device_created',\n 'device_modified',\n 'from_db',\n 'full_clean',\n 'get_absolute_url',\n 'get_deferred_fields',\n 'get_info_source_display',\n 'get_information_provider_display',\n 'get_is_present_display',\n 'get_latest_by',\n 'get_next_by_created',\n 'get_next_by_modified',\n 'get_next_by_report_datetime',\n 'get_previous_by_created',\n 'get_previous_by_modified',\n 'get_previous_by_report_datetime',\n 'get_reason_display',\n 'get_reason_unscheduled_display',\n 'get_require_crfs_display',\n 'get_study_status_display',\n 'get_survival_status_display',\n 'get_visit_reason_choices',\n 'get_visit_reason_follow_up_choices',\n 'get_visit_reason_no_follow_up_choices',\n 'history',\n 'hivknowledge',\n 'hivtestingadol',\n 'hostname_created',\n 'hostname_modified',\n 'id',\n 'infantarvexposure',\n 'infantarvprophylaxis',\n 'infantcongenitalanomalies',\n 'infantdevscreening12months',\n 'infantdevscreening18months',\n 'infantdevscreening36months',\n 'infantdevscreening3months',\n 'infantdevscreening60months',\n 'infantdevscreening6months',\n 'infantdevscreening72months',\n 'infantdevscreening9months',\n 'infantfeeding',\n 'infantfeedingpractices',\n 'infanthivtesting',\n 'infanthivtesting18months',\n 'infanthivtesting9months',\n 'infanthivtestingafterbreastfeeding',\n 'infanthivtestingage6to8weeks',\n 'infanthivtestingbirth',\n 'infanthivtestingother',\n 'info_source',\n 'info_source_other',\n 'information_provider',\n 'information_provider_other',\n 'is_present',\n 'last_alive_date',\n 'metadata',\n 'metadata_cls',\n 'metadata_create',\n 'metadata_delete_for_visit',\n 'metadata_destroyer_cls',\n 'metadata_query_options',\n 'metadata_rule_evaluator_cls',\n 'model_reference_validate',\n 'modified',\n 'natural_key',\n 'objects',\n 'on_site',\n 'pk',\n 'post_save_check_appointment_in_progress',\n 'prepare_database_save',\n 'previous_visit',\n 'reason',\n 'reason_missed',\n 'reason_missed_other',\n 'reason_unscheduled',\n 'reason_unscheduled_other',\n 'reference_deleter_cls',\n 'reference_name',\n 'reference_updater_cls',\n 'refresh_from_db',\n 'report_datetime',\n 'require_crfs',\n 'revision',\n 'run_metadata_rules',\n 'save',\n 'save_base',\n 'save_without_historical_record',\n 'schedule',\n 'schedule_name',\n 'serializable_value',\n 'site',\n 'site_id',\n 'study_status',\n 'subject_identifier',\n 'survival_status',\n 'tbadolengagement',\n 'tbadolinterview',\n 'tbadolinterviewtranscription',\n 'tbadolinterviewtranslation',\n 'tbadolreferraloutcomes',\n 'tbhistoryadol',\n 'tbknowledgeadol',\n 'tblabresultsadol',\n 'tbpresencehouseholdmembersadol',\n 'tbreferaladol',\n 'tbroutinescreenadol',\n 'tbvisitscreeningadolescent',\n 'unique_error_message',\n 'user_created',\n 'user_modified',\n 'validate_unique',\n 'verbose_name',\n 'visit',\n 'visit_code',\n 'visit_code_sequence',\n 'visit_schedule',\n 'visit_schedule_name',\n 'visit_sequence_cls',\n 'visits']"
     },
     "execution_count": 14,
     "metadata": {},
     "output_type": "execute_result"
    }
   ],
   "source": [
    "dir(ChildVisit)"
   ],
   "metadata": {
    "collapsed": false,
    "ExecuteTime": {
     "end_time": "2024-02-21T08:06:46.025562Z",
     "start_time": "2024-02-21T08:06:45.945088Z"
    }
   },
   "id": "d077fbc84548ae41",
   "execution_count": 14
  },
  {
   "cell_type": "code",
   "outputs": [],
   "source": [],
   "metadata": {
    "collapsed": false
   },
   "id": "7ea0c000235c16c9"
  }
 ],
 "metadata": {
  "kernelspec": {
   "display_name": "Python 3",
   "language": "python",
   "name": "python3"
  },
  "language_info": {
   "codemirror_mode": {
    "name": "ipython",
    "version": 2
   },
   "file_extension": ".py",
   "mimetype": "text/x-python",
   "name": "python",
   "nbconvert_exporter": "python",
   "pygments_lexer": "ipython2",
   "version": "2.7.6"
  }
 },
 "nbformat": 4,
 "nbformat_minor": 5
}
