{
 "cells": [
  {
   "cell_type": "code",
   "execution_count": 15,
   "id": "e356c05a",
   "metadata": {},
   "outputs": [],
   "source": [
    "import os, sys\n",
    "from django.apps import apps as django_apps\n",
    "from django.db.models.signals import post_delete\n",
    "from datetime import datetime\n",
    "from edc_visit_schedule.site_visit_schedules import site_visit_schedules\n",
    "\n",
    "sys.path.append('../') # add path to project root dir\n",
    "os.environ[\"DJANGO_SETTINGS_MODULE\"] = \"flourish.settings\"\n",
    "os.environ[\"DJANGO_ALLOW_ASYNC_UNSAFE\"] = \"true\""
   ]
  },
  {
   "cell_type": "code",
   "execution_count": 16,
   "id": "7aff4508",
   "metadata": {},
   "outputs": [],
   "source": [
    "post_delete.disconnect(dispatch_uid='offschedule_model_on_post_delete')\n",
    "\n",
    "def delete_offschedule_instance(onsch_model_cls, subject_identifier, child_identifier):\n",
    "    onsch = onsch_model_cls.objects.get(subject_identifier=subject_identifier,\n",
    "                                        child_subject_identifier=child_identifier)\n",
    "    offsch = CaregiverOffSchedule.objects.get(subject_identifier=onsch.subject_identifier,\n",
    "                                              schedule_name=onsch.schedule_name)\n",
    "    offsch.delete()\n",
    "    try:\n",
    "        ssh = SubjectScheduleHistory.objects.get(subject_identifier=onsch.subject_identifier,\n",
    "                                                 schedule_name=onsch.schedule_name)\n",
    "        ssh.schedule_status = 'onschedule'\n",
    "        ssh.offschedule_datetime = None\n",
    "        ssh.save()\n",
    "    except SubjectScheduleHistory.DoesNotExist:\n",
    "        print(subject_identifier, child_identifier, onsch.schedule_name)\n",
    "\n",
    "    if 'quart' in onsch.schedule_name or 'qt' in onsch.schedule_name:\n",
    "        _, schedule = site_visit_schedules.get_by_onschedule_model_schedule_name(\n",
    "            onschedule_model=ssh.onschedule_model, name=ssh.schedule_name)\n",
    "        schedule.put_on_schedule(subject_identifier=onsch.subject_identifier,\n",
    "                                 onschedule_datetime=onsch.onschedule_datetime,\n",
    "                                 schedule_name=onsch.schedule_name, )"
   ]
  },
  {
   "cell_type": "code",
   "execution_count": 17,
   "id": "fcd79bed",
   "metadata": {},
   "outputs": [],
   "source": [
    "from flourish_caregiver.models import CaregiverOffSchedule\n",
    "from flourish_prn.models import CaregiverOffStudy\n",
    "\n",
    "subject_identifier = 'B142-040990255-7'\n",
    "child_identifier_on = 'B142-040990255-7-10'\n",
    "child_identifier_off = 'B142-040990255-7-60'"
   ]
  },
  {
   "cell_type": "code",
   "execution_count": 5,
   "id": "da06910c",
   "metadata": {},
   "outputs": [],
   "source": [
    "offstudy = CaregiverOffStudy.objects.get(subject_identifier=subject_identifier)\n",
    "offstudy.delete()\n",
    "\n",
    "visit = MaternalVisit.objects.get(subject_identifier=subject_identifier,\n",
    "                                  visit_code='1000M',\n",
    "                                  visit_code_sequence=1)\n",
    "visit.study_status = 'on study'\n",
    "visit.save()"
   ]
  },
  {
   "cell_type": "code",
   "execution_count": 18,
   "id": "29dc8a82",
   "metadata": {},
   "outputs": [],
   "source": [
    "models = [OnScheduleCohortBEnrollment, OnScheduleCohortCFUSeq, OnScheduleCohortCFUQuarterly]\n",
    "\n",
    "for model_cls in models:\n",
    "    delete_offschedule_instance(model_cls, subject_identifier, child_identifier_on)"
   ]
  },
  {
   "cell_type": "code",
   "execution_count": 19,
   "id": "f9e1895a",
   "metadata": {},
   "outputs": [],
   "source": [
    "delete_offschedule_instance(OnScheduleCohortAAntenatal, subject_identifier, child_identifier_off)"
   ]
  },
  {
   "cell_type": "code",
   "execution_count": null,
   "id": "18ba9b45",
   "metadata": {},
   "outputs": [],
   "source": []
  }
 ],
 "metadata": {
  "kernelspec": {
   "display_name": "Django Shell-Plus",
   "language": "python",
   "name": "django_extensions"
  },
  "language_info": {
   "codemirror_mode": {
    "name": "ipython",
    "version": 3
   },
   "file_extension": ".py",
   "mimetype": "text/x-python",
   "name": "python",
   "nbconvert_exporter": "python",
   "pygments_lexer": "ipython3",
   "version": "3.8.13"
  }
 },
 "nbformat": 4,
 "nbformat_minor": 5
}
