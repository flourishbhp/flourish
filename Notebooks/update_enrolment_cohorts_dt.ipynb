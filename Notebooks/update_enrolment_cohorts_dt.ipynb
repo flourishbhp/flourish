{
 "cells": [
  {
   "cell_type": "code",
   "execution_count": 1,
   "id": "383b9afd",
   "metadata": {},
   "outputs": [],
   "source": [
    "import os\n",
    "import csv\n",
    "os.environ[\"DJANGO_ALLOW_ASYNC_UNSAFE\"] = \"true\""
   ]
  },
  {
   "cell_type": "code",
   "execution_count": 6,
   "id": "d3dc4a89",
   "metadata": {},
   "outputs": [
    {
     "name": "stdout",
     "output_type": "stream",
     "text": [
      "Why? B142-040991303-4-10\n",
      "Why? B142-040991085-7-10\n",
      "Why? B142-040990380-3-10\n",
      "Why? B142-040990920-6-10\n",
      "Why? B142-040991086-5-10\n",
      "Why? B142-040991297-8-10\n",
      "Why? B142-040990569-1-10\n",
      "Why? B142-040991230-9-10\n",
      "Why? B142-040990994-1-60\n",
      "Why? B142-040990462-9-10\n",
      "Why? B142-040990624-4-10\n",
      "Why? B142-040991216-8-10\n",
      "Why? B142-040990524-6-10\n",
      "Why? B142-040991201-0-10\n",
      "Why? B142-040991159-0-10\n",
      "Why? B142-040990660-8-10\n",
      "Why? B142-040991199-6-10\n",
      "Why? B142-040991189-7-10\n",
      "Why? B142-040990413-2-10\n",
      "Why? B142-040990261-5-60\n",
      "Why? B142-040990664-0-10\n",
      "Why? B142-040991302-6-10\n",
      "Why? B142-040990435-5-10\n",
      "Why? B142-040991233-3-10\n",
      "Why? B142-040990897-6-10\n",
      "Why? B142-040990711-9-60\n",
      "Why? B142-040991300-0-10\n",
      "Why? B142-040991239-0-10\n",
      "Why? B142-040991301-8-10\n",
      "Why? B142-040990482-7-10\n",
      "Why? B142-040991304-2-10\n",
      "Why? B142-040990255-7-60\n",
      "Why? B142-040991106-1-10\n",
      "Why? B142-040990723-4-10\n",
      "Why? B142-040991282-0-10\n"
     ]
    }
   ],
   "source": [
    "enrolment_cohorts = Cohort.objects.filter(enrollment_cohort=True)\n",
    "csh = CohortSchedules.objects.filter(\n",
    "    schedule_type__in=['enrollment', 'birth'], child_count__isnull=True)\n",
    "\n",
    "for cohort in enrolment_cohorts:\n",
    "    schedule_names = csh.filter(cohort_name=cohort.name).values_list('schedule_name', flat=True)\n",
    "    try:\n",
    "        ssh = SubjectScheduleHistory.objects.filter(\n",
    "            subject_identifier=cohort.subject_identifier,\n",
    "            schedule_name__in=schedule_names).earliest('onschedule_datetime')\n",
    "        if cohort.assign_datetime > ssh.onschedule_datetime:\n",
    "            cohort.assign_datetime = ssh.onschedule_datetime\n",
    "            cohort.save()\n",
    "#             print(f'{cohort.subject_identifier}, {cohort.assign_datetime} instead of {ssh.onschedule_datetime} for {cohort.name}')\n",
    "    except SubjectScheduleHistory.DoesNotExist:\n",
    "        print(f'Why? {cohort.subject_identifier}')"
   ]
  },
  {
   "cell_type": "code",
   "execution_count": null,
   "id": "3ae1ed21",
   "metadata": {},
   "outputs": [],
   "source": []
  }
 ],
 "metadata": {
  "kernelspec": {
   "display_name": "Django Shell-Plus",
   "language": "python",
   "name": "django_extensions"
  },
  "language_info": {
   "codemirror_mode": {
    "name": "ipython",
    "version": 3
   },
   "file_extension": ".py",
   "mimetype": "text/x-python",
   "name": "python",
   "nbconvert_exporter": "python",
   "pygments_lexer": "ipython3",
   "version": "3.8.13"
  }
 },
 "nbformat": 4,
 "nbformat_minor": 5
}
