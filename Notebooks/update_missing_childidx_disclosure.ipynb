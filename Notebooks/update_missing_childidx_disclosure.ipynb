{
 "cells": [
  {
   "cell_type": "code",
   "execution_count": 36,
   "id": "4f880086",
   "metadata": {},
   "outputs": [],
   "source": [
    "import os, sys\n",
    "\n",
    "sys.path.append('../') # add path to project root dir\n",
    "os.environ[\"DJANGO_SETTINGS_MODULE\"] = \"flourish.settings\"\n",
    "os.environ[\"DJANGO_ALLOW_ASYNC_UNSAFE\"] = \"true\""
   ]
  },
  {
   "cell_type": "code",
   "execution_count": 37,
   "id": "ca576152",
   "metadata": {},
   "outputs": [],
   "source": [
    "child_pid_missing = []\n",
    "hiv_disclosures = [HIVDisclosureStatusA, HIVDisclosureStatusB, HIVDisclosureStatusC]\n",
    "for disclosure_cls in hiv_disclosures:\n",
    "    missing = disclosure_cls.objects.filter(\n",
    "        Q(associated_child_identifier='') | Q(associated_child_identifier__isnull=True))\n",
    "    child_pid_missing.extend(list(missing))"
   ]
  },
  {
   "cell_type": "code",
   "execution_count": 38,
   "id": "c08a443d",
   "metadata": {},
   "outputs": [],
   "source": [
    "for missing in child_pid_missing:\n",
    "    onschedule_model_cls = missing.maternal_visit.schedule.onschedule_model_cls\n",
    "    try:\n",
    "        onschedule_obj = onschedule_model_cls.objects.get(\n",
    "            subject_identifier=missing.subject_identifier)\n",
    "    except onschedule_model_cls.DoesNotExist:\n",
    "        print('wheet!!')\n",
    "    else:\n",
    "        child_subject_identifier = onschedule_obj.child_subject_identifier\n",
    "        missing.associated_child_identifier = child_subject_identifier\n",
    "        missing.save_base(raw=True)"
   ]
  },
  {
   "cell_type": "code",
   "execution_count": null,
   "id": "1eebbe0d",
   "metadata": {},
   "outputs": [],
   "source": []
  }
 ],
 "metadata": {
  "kernelspec": {
   "display_name": "Django Shell-Plus",
   "language": "python",
   "name": "django_extensions"
  },
  "language_info": {
   "codemirror_mode": {
    "name": "ipython",
    "version": 3
   },
   "file_extension": ".py",
   "mimetype": "text/x-python",
   "name": "python",
   "nbconvert_exporter": "python",
   "pygments_lexer": "ipython3",
   "version": "3.8.13"
  }
 },
 "nbformat": 4,
 "nbformat_minor": 5
}
