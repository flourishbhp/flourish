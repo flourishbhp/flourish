{
 "cells": [
  {
   "cell_type": "code",
   "execution_count": 3,
   "id": "73722f75",
   "metadata": {},
   "outputs": [],
   "source": [
    "import os\n",
    "os.environ[\"DJANGO_ALLOW_ASYNC_UNSAFE\"] = \"true\"\n",
    "\n",
    "from django.apps import apps as django_apps\n",
    "from edc_appointment.models import Appointment as CaregiverAppointment\n",
    "from flourish_caregiver.helper_classes.onschedule_helper import OnScheduleHelper\n",
    "from edc_visit_schedule.site_visit_schedules import site_visit_schedules"
   ]
  },
  {
   "cell_type": "code",
   "execution_count": 5,
   "id": "e6248869",
   "metadata": {},
   "outputs": [
    {
     "name": "stdout",
     "output_type": "stream",
     "text": [
      "B142-040990786-1 No onschedule object b_sec1_schedule1\n",
      "B142-040990786-1 No onschedule object b_sec_quart1_schedule1\n"
     ]
    }
   ],
   "source": [
    "subject_identifier = 'B142-040990786-1'\n",
    "child_subject_identifier = 'B142-040990786-1-60'\n",
    "child_count = 2\n",
    "\n",
    "ssh = SubjectScheduleHistory.objects.filter(subject_identifier=subject_identifier)\n",
    "for sh in ssh:\n",
    "    onschedule_model_cls = django_apps.get_model(sh.onschedule_model)\n",
    "    schedule_name = sh.schedule_name\n",
    "\n",
    "    try:\n",
    "        onschedule_obj = onschedule_model_cls.objects.get(\n",
    "            subject_identifier=subject_identifier,\n",
    "            child_subject_identifier=child_subject_identifier,\n",
    "            schedule_name=schedule_name)\n",
    "    except onschedule_model_cls.DoesNotExist:\n",
    "        print(subject_identifier, 'No onschedule object', schedule_name)\n",
    "    else:\n",
    "        cohort_sch = CohortSchedules.objects.get(schedule_name=schedule_name)\n",
    "        new_cohort_sch = CohortSchedules.objects.get(\n",
    "            schedule_type=cohort_sch.schedule_type,\n",
    "            cohort_name=cohort_sch.cohort_name,\n",
    "            child_count=child_count)\n",
    "\n",
    "        if cohort_sch.child_count != child_count:\n",
    "            # Put on schedule for new schedule\n",
    "            helper_cls = OnScheduleHelper(\n",
    "                subject_identifier=subject_identifier,\n",
    "                onschedule_datetime=onschedule_obj.onschedule_datetime,\n",
    "                cohort=cohort_sch.cohort_name)\n",
    "\n",
    "            visit_schedule, schedule = site_visit_schedules.get_by_onschedule_model_schedule_name(\n",
    "                onschedule_model=new_cohort_sch.onschedule_model, name=new_cohort_sch.schedule_name)\n",
    "            new_onsch_cls = django_apps.get_model(new_cohort_sch.onschedule_model)\n",
    "            try:\n",
    "                new_onsch_cls.objects.get(\n",
    "                    subject_identifier=subject_identifier, schedule_name=schedule.name)\n",
    "            except new_onsch_cls.DoesNotExist:\n",
    "                helper_cls.add_on_schedule(\n",
    "                    schedule=schedule,\n",
    "                    subject_identifier=subject_identifier,\n",
    "                    instance=onschedule_obj,\n",
    "                    schedule_name=new_cohort_sch.schedule_name,\n",
    "                    base_appt_datetime=onschedule_obj.onschedule_datetime,\n",
    "                    child_subject_identifier=child_subject_identifier,\n",
    "                    onschedule_model_cls=new_onsch_cls)\n",
    "                new_appts = CaregiverAppointment.objects.filter(\n",
    "                    subject_identifier=subject_identifier, schedule_name=new_cohort_sch.schedule_name)\n",
    "                new_appts.delete()\n",
    "\n",
    "                appts = CaregiverAppointment.objects.filter(\n",
    "                    subject_identifier=subject_identifier, schedule_name=schedule_name)\n",
    "                for appt in appts:\n",
    "                    visit = MaternalVisit.objects.get(appointment=appt)\n",
    "                    appt.visit_schedule_name = visit_schedule.name\n",
    "                    appt.schedule_name = schedule.name\n",
    "                    appt.save_base(raw=True)\n",
    "                    visit.visit_schedule_name = visit_schedule.name\n",
    "                    visit.schedule_name = schedule.name\n",
    "                    visit.save_base(raw=True)\n",
    "\n",
    "            onschedule_obj.delete()\n",
    "            sh.delete()"
   ]
  },
  {
   "cell_type": "code",
   "execution_count": null,
   "id": "c46ee9b0",
   "metadata": {},
   "outputs": [],
   "source": []
  }
 ],
 "metadata": {
  "kernelspec": {
   "display_name": "Django Shell-Plus",
   "language": "python",
   "name": "django_extensions"
  },
  "language_info": {
   "codemirror_mode": {
    "name": "ipython",
    "version": 3
   },
   "file_extension": ".py",
   "mimetype": "text/x-python",
   "name": "python",
   "nbconvert_exporter": "python",
   "pygments_lexer": "ipython3",
   "version": "3.8.13"
  }
 },
 "nbformat": 4,
 "nbformat_minor": 5
}
