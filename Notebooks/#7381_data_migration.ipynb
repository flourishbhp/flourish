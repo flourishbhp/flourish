{
 "cells": [
  {
   "cell_type": "code",
   "execution_count": 1,
   "id": "initial_id",
   "metadata": {
    "collapsed": true,
    "ExecuteTime": {
     "end_time": "2024-02-16T05:51:53.931459Z",
     "start_time": "2024-02-16T05:51:34.936709Z"
    }
   },
   "outputs": [
    {
     "name": "stdout",
     "output_type": "stream",
     "text": [
      "  * Reading config from flourish.ini\n",
      "Loading Data Encryption (init)...\n",
      " * loading keys from /Users/nimrodmunatsi/source/flourish-code-space/flourish/crypto_fields\n",
      " * loading rsa.restricted.public ... Done.\n",
      " * loading rsa.restricted.private ... Done.\n",
      " * loading rsa.local.public ... Done.\n",
      " * loading rsa.local.private ... Done.\n",
      " * loading aes.local ... Done.\n",
      " * loading aes.restricted ... Done.\n",
      " * loading salt.local ... Done.\n",
      " * loading salt.restricted ... Done.\n",
      " Done loading Data Encryption (init)...\n"
     ]
    },
    {
     "name": "stderr",
     "output_type": "stream",
     "text": [
      "/Users/nimrodmunatsi/.venv/flourish/lib/python3.9/site-packages/django_q/conf.py:139: UserWarning: Retry and timeout are misconfigured. Set retry larger than timeout, \n",
      "        failure to do so will cause the tasks to be retriggered before completion. \n",
      "        See https://django-q.readthedocs.io/en/latest/configure.html#retry for details.\n",
      "  warn(\n",
      "/Users/nimrodmunatsi/.venv/flourish/lib/python3.9/site-packages/simple_history/models.py:164: UserWarning: HistoricalRecords added to abstract model (HistoryManagerMixin) without inherit=True\n",
      "  warnings.warn(msg, UserWarning)\n",
      "/Users/nimrodmunatsi/.venv/flourish/lib/python3.9/site-packages/simple_history/models.py:164: UserWarning: HistoricalRecords added to abstract model (ScheduleModelMixin) without inherit=True\n",
      "  warnings.warn(msg, UserWarning)\n",
      "/Users/nimrodmunatsi/.venv/flourish/lib/python3.9/site-packages/simple_history/models.py:164: UserWarning: HistoricalRecords added to abstract model (VisitModelMixin) without inherit=True\n",
      "  warnings.warn(msg, UserWarning)\n",
      "/Users/nimrodmunatsi/.venv/flourish/lib/python3.9/site-packages/simple_history/models.py:164: UserWarning: HistoricalRecords added to abstract model (OnScheduleModelMixin) without inherit=True\n",
      "  warnings.warn(msg, UserWarning)\n",
      "/Users/nimrodmunatsi/.venv/flourish/lib/python3.9/site-packages/simple_history/models.py:164: UserWarning: HistoricalRecords added to abstract model (OffStudyMixin) without inherit=True\n",
      "  warnings.warn(msg, UserWarning)\n"
     ]
    },
    {
     "name": "stdout",
     "output_type": "stream",
     "text": [
      "Loading Data Encryption ...\n",
      " * found encryption keys in /Users/nimrodmunatsi/source/flourish-code-space/flourish/crypto_fields.\n",
      " * using model django_crypto_fields.crypt.\n",
      " Done loading Data Encryption.\n",
      "Loading Edc Consent ...\n",
      " * checking for site consents ...\n",
      " * registered consents 'consents' from 'flourish_caregiver'\n",
      " * registered consents 'consents' from 'flourish_child'\n",
      " * registered consents 'consents' from 'pre_flourish'\n",
      " * registered consents 'consents' from 'flourish_facet'\n",
      " * flourish_caregiver.subjectconsent 1 covering 2020-07-01 UTC to 2025-06-30 UTC\n",
      " * flourish_caregiver.subjectconsent 2 covering 2020-07-01 UTC to 2025-06-30 UTC\n",
      " * flourish_caregiver.subjectconsent 3 covering 2020-07-01 UTC to 2025-06-30 UTC\n",
      " * flourish_caregiver.tbadolconsent 1 covering 2020-07-01 UTC to 2025-06-30 UTC\n",
      " * flourish_caregiver.tbinformedconsent 1 covering 2020-07-01 UTC to 2025-06-30 UTC\n",
      " * flourish_child.childdummysubjectconsent 1 covering 2020-07-01 UTC to 2025-06-30 UTC\n",
      " * flourish_child.childdummysubjectconsent 2 covering 2020-07-01 UTC to 2025-06-30 UTC\n",
      " * flourish_child.childdummysubjectconsent 2.1 covering 2020-07-01 UTC to 2025-06-30 UTC\n",
      " * flourish_child.childdummysubjectconsent 3 covering 2020-07-01 UTC to 2025-06-30 UTC\n",
      " * flourish_facet.facetconsent 1 covering 2020-07-01 UTC to 2025-06-30 UTC\n",
      " * flourish_facet.motherchildconsent 1 covering 2020-07-01 UTC to 2025-06-30 UTC\n",
      " * pre_flourish.preflourishcaregiverchildconsent 1 covering 2020-07-01 UTC to 2025-06-30 UTC\n",
      " * pre_flourish.preflourishchilddummysubjectconsent 1 covering 2020-07-01 UTC to 2025-06-30 UTC\n",
      " * pre_flourish.preflourishconsent 1 covering 2020-07-01 UTC to 2025-06-30 UTC\n",
      " Done loading Edc Consent.\n",
      "Loading Edc Device ...\n",
      "  * device id is '99'.\n",
      "  * device role is 'CentralServer'.\n",
      " Done loading Edc Device.\n",
      "Loading Edc Identifier ...\n",
      " Warning: 'identifier_prefix' has not been explicitly set. Using default '999'. See AppConfig.\n",
      " * identifier prefix: 999\n",
      " * check-digit modulus: 7\n",
      " Done loading Edc Identifier\n",
      "Loading Edc Lab ...\n",
      " * checking for labs ...\n",
      " Done loading Edc Lab.\n",
      "Loading Edc Navbar ...\n",
      " * checking for site navbars ...\n",
      " * searching edc_consent           \r         * registered navbars 'navbars' from 'edc_consent'\n",
      " * registered navbars 'navbars' from 'edc_device'\n",
      " * registered navbars 'navbars' from 'edc_navbar'\n",
      " * registered navbars 'navbars' from 'edc_reference'\n",
      " * registered navbars 'navbars' from 'edc_visit_schedule'\n",
      " * registered navbars 'navbars' from 'flourish_export'\n",
      " * registered navbars 'navbars' from 'flourish_dashboard'\n",
      " * registered navbars 'navbars' from 'flourish_follow'\n",
      " * registered navbars 'navbars' from 'pre_flourish_follow'\n",
      " * registered navbars 'navbars' from 'flourish_reports'\n",
      " * registered navbars 'navbars' from 'edc_base'\n",
      " * registered navbars 'navbars' from 'edc_data_manager'\n",
      " * registered navbars 'navbars' from 'edc_odk'\n",
      " * registered navbars 'navbars' from 'edc_protocol'\n",
      " * registered navbars 'navbars' from 'edc_senaite_interface'\n",
      " * registered navbars 'navbars' from 'pre_flourish'\n",
      " * registered navbars 'navbars' from 'flourish_calendar'\n",
      " * registered navbars 'navbars' from 'flourish'\n",
      " * registered navbars 'navbars' from 'flourish_facet'\n",
      " Done loading Edc Navbar.             \n",
      " * checking for site prn_forms ...\n",
      "Loading Edc Registration ...                   \n",
      "  * using edc_registration.registeredsubject\n",
      " Done loading Edc Registration.\n",
      "Loading Edc Reference ...\n",
      " * checking for reference_model_configs ...\n",
      " * checking for labs ...\n",
      " * registered reference model configs from application 'flourish_reference'\n",
      " Done loading Edc Reference.\n",
      "Loading Visit Schedules ...\n",
      " * checking site for module 'visit_schedules' ...\n",
      " * registered visit schedule from 'flourish_visit_schedule'\n",
      " * registered visit schedule from 'pre_flourish'\n",
      " * registered visit schedule from 'flourish_facet'\n",
      " Done loading Visit Schedules.\n",
      "Loading EDC Call Manager ...\n",
      " * call models are in app edc_call_manager.\n",
      " * checking for site model_callers ...\n",
      " * registered model caller '<class 'flourish_follow.model_callers.model_callers.WorkListFollowUpModelCaller'>'\n",
      " * registered model caller '<class 'pre_flourish_follow.model_callers.model_callers.PreFlourishWorkListFollowUpModelCaller'>'\n",
      " Done loading EDC Call Manager.\n",
      "Loading edc_metadata_rules ...\n",
      " * checking for metadata_rules ...\n",
      "   - imported metadata rules from 'flourish_metadata_rules.metadata_rules'\n",
      "   - imported metadata rules from 'pre_flourish.metadata_rules'\n",
      "   - imported metadata rules from 'flourish_facet.metadata_rules'\n",
      " Done loading edc_metadata_rules.\n",
      "Loading Edc Appointments ...\n",
      " * edc_appointment.appointment.\n",
      " * pre_flourish.appointment.\n",
      " * flourish_child.appointment.\n",
      " * flourish_facet.appointment.\n",
      " Done loading Edc Appointments.\n",
      "Loading Edc Base ...\n",
      " * default TIME_ZONE Africa/Gaborone.\n",
      " Done loading Edc Base.\n",
      "Loading Edc Facility ...\n",
      " * 7-Day Clinic MO(100 slots), TU(100 slots), WE(100 slots), TH(100 slots), FR(100 slots), SA(100 slots), SU(100 slots).\n",
      " * 5-Day Clinic MO(100 slots), TU(100 slots), WE(100 slots), TH(100 slots), FR(100 slots).\n",
      " Done loading Edc Facility.\n",
      "Loading Edc Metadata ...\n",
      " * using default metadata models from 'edc_metadata'\n",
      " Done loading Edc Metadata.\n",
      "Loading Edc Protocol ...\n",
      " * BHP142: Flourish.\n",
      " * Study opening date: 2020-07-01 UTC\n",
      " * Expected study closing date: 2025-06-30 UTC\n",
      " Done loading Edc Protocol.\n",
      "Loading Edc Visit Tracking ...\n",
      " * flourish_caregiver.maternalvisit uses model attr 'maternal_visit'\n",
      " * flourish_child.childvisit uses model attr 'child_visit'\n",
      " * pre_flourish.preflourishvisit uses model attr 'pre_flourish_visit'\n",
      " * flourish_facet.facetvisit uses model attr 'facet_visit'\n",
      " Done loading Edc Visit Tracking.\n",
      "Loading Edc Timepoint ...\n",
      " * 'edc_appointment.appointment' is a timepoint model.\n",
      " * 'edc_appointment.historicalappointment' is a timepoint model.\n",
      " * 'pre_flourish.appointment' is a timepoint model.\n",
      " * 'flourish_facet.appointment' is a timepoint model.\n",
      " * 'flourish_child.appointment' is a timepoint model.\n",
      " * 'flourish_child.historicalappointment' is a timepoint model.\n",
      " Done loading Edc Timepoint.\n"
     ]
    }
   ],
   "source": [
    "import os\n",
    "import sys\n",
    "\n",
    "import django\n",
    "\n",
    "sys.path.append('../')  # add path to project root dir\n",
    "\n",
    "os.environ[\"DJANGO_SETTINGS_MODULE\"] = \"flourish.settings\"\n",
    "from django.apps import apps as django_apps\n",
    "\n",
    "os.environ[\"DJANGO_ALLOW_ASYNC_UNSAFE\"] = \"true\"\n",
    "\n",
    "django.setup()"
   ]
  },
  {
   "cell_type": "code",
   "outputs": [],
   "source": [
    "import json\n",
    "\n",
    "def read_json_file(file_path):\n",
    "    with open(file_path, 'r') as json_file:\n",
    "        data = json.load(json_file)\n",
    "    return data"
   ],
   "metadata": {
    "collapsed": false,
    "ExecuteTime": {
     "end_time": "2024-02-16T05:56:11.608723Z",
     "start_time": "2024-02-16T05:56:11.593338Z"
    }
   },
   "id": "a977e80e27beac06",
   "execution_count": 2
  },
  {
   "cell_type": "code",
   "outputs": [
    {
     "name": "stderr",
     "output_type": "stream",
     "text": [
      "100%|██████████| 265/265 [00:01<00:00, 264.01it/s]"
     ]
    },
    {
     "name": "stdout",
     "output_type": "stream",
     "text": [
      "39\n"
     ]
    },
    {
     "name": "stderr",
     "output_type": "stream",
     "text": [
      "\n"
     ]
    }
   ],
   "source": [
    "from docutils.parsers import null\n",
    "from edc_constants.constants import OTHER\n",
    "from tqdm import tqdm\n",
    "from flourish_child.models import ChildHIVNotTestedReason, InfantHIVTesting\n",
    "\n",
    "## TODO: At the time of update before applying migrations dump the data from the old table and then add the data on the variable all_infant_hiv_testing then run migrations and then run the below code to update the data\n",
    "all_infant_hiv_testing = read_json_file('/Users/nimrodmunatsi/Downloads/infanthivtesting.json')\n",
    "not_fould_count = 0\n",
    "\n",
    "for infant_hiv_testing in tqdm(all_infant_hiv_testing):\n",
    "    reason = infant_hiv_testing.get('fields').get('reason_child_not_tested')\n",
    "    visit = infant_hiv_testing.get('fields').get('child_visit')\n",
    "    reason_other = infant_hiv_testing.get('fields').get('reason_child_not_tested_other')\n",
    "\n",
    "    try:\n",
    "        live_obj=InfantHIVTesting.objects.get(\n",
    "            child_visit__subject_identifier=visit[0], \n",
    "            child_visit__visit_code=visit[3],\n",
    "        )\n",
    "    except InfantHIVTesting.DoesNotExist:\n",
    "        not_fould_count += 1\n",
    "        continue\n",
    "    else:\n",
    "        reason_to_short_name = {\n",
    "            'missed_visit': 'missed_visit',\n",
    "            'hcw_decision': 'not_offered',\n",
    "            'no_kits': 'no_test_kits',\n",
    "            OTHER: OTHER,\n",
    "            'no_apparent_reason': OTHER,\n",
    "        }\n",
    "\n",
    "        if reason in reason_to_short_name:\n",
    "            obj = ChildHIVNotTestedReason.objects.get(short_name=reason_to_short_name[reason])\n",
    "            live_obj.reason_child_not_tested.add(obj)\n",
    "        \n",
    "        if reason == OTHER or reason == 'no_apparent_reason':\n",
    "            live_obj.reason_child_not_tested_other = reason_other if reason_other else 'no_apparent_reason'\n",
    "        live_obj.save_base(raw=True)\n",
    "        \n",
    "print(not_fould_count)\n",
    "        "
   ],
   "metadata": {
    "collapsed": false,
    "ExecuteTime": {
     "end_time": "2024-02-16T06:10:49.459024Z",
     "start_time": "2024-02-16T06:10:48.438843Z"
    }
   },
   "id": "c5dcd311ab591282",
   "execution_count": 5
  },
  {
   "cell_type": "code",
   "outputs": [],
   "source": [],
   "metadata": {
    "collapsed": false
   },
   "id": "cd1001996d3fe3db",
   "execution_count": null
  }
 ],
 "metadata": {
  "kernelspec": {
   "display_name": "Python 3",
   "language": "python",
   "name": "python3"
  },
  "language_info": {
   "codemirror_mode": {
    "name": "ipython",
    "version": 2
   },
   "file_extension": ".py",
   "mimetype": "text/x-python",
   "name": "python",
   "nbconvert_exporter": "python",
   "pygments_lexer": "ipython2",
   "version": "2.7.6"
  }
 },
 "nbformat": 4,
 "nbformat_minor": 5
}
