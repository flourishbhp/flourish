{
 "cells": [
  {
   "cell_type": "code",
   "execution_count": 1,
   "id": "bb434d16",
   "metadata": {},
   "outputs": [],
   "source": [
    "# Imports\n",
    "import os\n",
    "import csv\n",
    "from datetime import datetime\n",
    "from edc_constants.constants import NO, YES\n",
    "\n",
    "os.environ[\"DJANGO_ALLOW_ASYNC_UNSAFE\"] = \"true\""
   ]
  },
  {
   "cell_type": "code",
   "execution_count": 4,
   "id": "c0ddfccb",
   "metadata": {},
   "outputs": [],
   "source": [
    "data = []\n",
    "with open('/Users/amediphoko/source/flourish/infant_feeding_dates_final.csv', 'r') as file:\n",
    "    records = csv.DictReader(file)\n",
    "    for row in records:\n",
    "        data.append(row)"
   ]
  },
  {
   "cell_type": "code",
   "execution_count": 5,
   "id": "f1596780",
   "metadata": {},
   "outputs": [],
   "source": [
    "for record in data:\n",
    "    update_data = {}\n",
    "    if record.get('is_query') == NO:\n",
    "        # Check match between date weaned or recent bf date, to update\n",
    "        dt_weaned_match = record.get('dt_weaned_match')\n",
    "        recent_bf_dt_match = record.get('recent_bf_dt_match')\n",
    "        if dt_weaned_match == 'TRUE':\n",
    "            dt_weaned = datetime.strptime(record.get('dt_weaned'), '%d/%m/%y').date()\n",
    "            update_data['recent_bf_dt'] = dt_weaned\n",
    "        elif recent_bf_dt_match == 'TRUE':\n",
    "            recent_bf_dt = datetime.strptime(record.get('recent_bf_dt'), '%d/%m/%y').date()\n",
    "            update_data['dt_weaned'] = recent_bf_dt\n",
    "    elif record.get('is_query') == YES:\n",
    "        confirmed_weaning = datetime.strptime(record.get('confirmed_weaning'), '%d/%m/%y').date()\n",
    "        confirmed_solids = datetime.strptime(record.get('confirmed_solids'), '%d/%m/%y').date()\n",
    "        update_data['dt_weaned'] = confirmed_weaning\n",
    "        update_data['recent_bf_dt'] = confirmed_weaning\n",
    "        update_data['solid_foods_dt'] = confirmed_solids\n",
    "\n",
    "    # Update CRF data\n",
    "    try:\n",
    "        child_visit = ChildVisit.objects.get(\n",
    "            subject_identifier=record.get('subject_identifier'),\n",
    "            visit_code=record.get('visit_code'),\n",
    "            visit_code_sequence=record.get('visit_code_sequence'))\n",
    "    except ChildVisit.DoesNotExist:\n",
    "        print(record.get('subject_identifier'), record.get('visit_code'), 'DNE')\n",
    "    else:\n",
    "        feeding_obj = InfantFeeding.objects.filter(child_visit=child_visit)\n",
    "        if feeding_obj:\n",
    "            feeding_obj.update(**update_data)\n",
    "            continue\n",
    "        print('No feeding instance', record.get('subject_identifier'), record.get('visit_code'))"
   ]
  },
  {
   "cell_type": "code",
   "execution_count": null,
   "id": "ea81e3ea",
   "metadata": {},
   "outputs": [],
   "source": []
  }
 ],
 "metadata": {
  "kernelspec": {
   "display_name": "Django Shell-Plus",
   "language": "python",
   "name": "django_extensions"
  },
  "language_info": {
   "codemirror_mode": {
    "name": "ipython",
    "version": 3
   },
   "file_extension": ".py",
   "mimetype": "text/x-python",
   "name": "python",
   "nbconvert_exporter": "python",
   "pygments_lexer": "ipython3",
   "version": "3.8.13"
  }
 },
 "nbformat": 4,
 "nbformat_minor": 5
}
