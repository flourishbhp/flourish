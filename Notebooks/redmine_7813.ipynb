{
 "cells": [
  {
   "cell_type": "code",
   "execution_count": 1,
   "id": "82699097",
   "metadata": {},
   "outputs": [],
   "source": [
    "import os\n",
    "import csv\n",
    "from datetime import timedelta\n",
    "from django.apps import apps as django_apps\n",
    "from edc_constants.constants import YES, NO\n",
    "os.environ[\"DJANGO_ALLOW_ASYNC_UNSAFE\"] = \"true\""
   ]
  },
  {
   "cell_type": "code",
   "execution_count": 2,
   "id": "08d711b3",
   "metadata": {},
   "outputs": [],
   "source": [
    "weaned_objs = InfantFeeding.objects.filter(continuing_to_bf=NO)\n",
    "records = []\n",
    "\n",
    "for weaned in weaned_objs:\n",
    "    if weaned.child_weaned == YES and weaned.dt_weaned != weaned.recent_bf_dt:\n",
    "        records.append({\n",
    "            'subject_identifier': weaned.subject_identifier,\n",
    "            'visit_code': weaned.child_visit.visit_code,\n",
    "            'visit_code_sequence': weaned.child_visit.visit_code_sequence,\n",
    "            'child_weaned': weaned.child_weaned,\n",
    "            'dt_weaned': weaned.dt_weaned,\n",
    "            'recent_bf_dt': weaned.recent_bf_dt})"
   ]
  },
  {
   "cell_type": "code",
   "execution_count": 3,
   "id": "caa3abe8",
   "metadata": {},
   "outputs": [],
   "source": [
    "keys = records[0].keys()\n",
    "\n",
    "with open('infant_feeding_discrepancies.csv', 'w') as file:\n",
    "    writer = csv.DictWriter(file, fieldnames=keys)\n",
    "    writer.writeheader()\n",
    "    writer.writerows(records)"
   ]
  },
  {
   "cell_type": "code",
   "execution_count": null,
   "id": "ce2f231e",
   "metadata": {},
   "outputs": [],
   "source": []
  }
 ],
 "metadata": {
  "kernelspec": {
   "display_name": "Django Shell-Plus",
   "language": "python",
   "name": "django_extensions"
  },
  "language_info": {
   "codemirror_mode": {
    "name": "ipython",
    "version": 3
   },
   "file_extension": ".py",
   "mimetype": "text/x-python",
   "name": "python",
   "nbconvert_exporter": "python",
   "pygments_lexer": "ipython3",
   "version": "3.8.13"
  }
 },
 "nbformat": 4,
 "nbformat_minor": 5
}
