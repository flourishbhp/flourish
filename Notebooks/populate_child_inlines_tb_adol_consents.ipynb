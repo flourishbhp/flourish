{
 "cells": [
  {
   "cell_type": "code",
   "execution_count": 4,
   "id": "42266c1a",
   "metadata": {},
   "outputs": [],
   "source": [
    "# Imports\n",
    "import os\n",
    "\n",
    "os.environ[\"DJANGO_ALLOW_ASYNC_UNSAFE\"] = \"true\""
   ]
  },
  {
   "cell_type": "code",
   "execution_count": 5,
   "id": "6cdd6b4c",
   "metadata": {},
   "outputs": [
    {
     "name": "stdout",
     "output_type": "stream",
     "text": [
      "exists B142-040990771-3-10\n",
      "exists B142-040990096-5-35\n"
     ]
    }
   ],
   "source": [
    "tb_adol_child_assents = TbAdolAssent.objects.all()\n",
    "for adol_assent in tb_adol_child_assents:\n",
    "    adult_consent = CaregiverChildConsent.objects.filter(\n",
    "        subject_identifier=adol_assent.subject_identifier).latest('consent_datetime').subject_consent\n",
    "    caregiver_subject_identifier = adult_consent.subject_identifier\n",
    "    try:\n",
    "        tb_adol_consent = TbAdolConsent.objects.get(subject_identifier=caregiver_subject_identifier)\n",
    "    except TbAdolConsent.DoesNotExist:\n",
    "        print('wheet', caregiver_subject_identifier)\n",
    "    else:\n",
    "        obj, created = TbAdolChildConsent.objects.get_or_create(\n",
    "            tb_adol_consent=tb_adol_consent,\n",
    "            subject_identifier=adol_assent.subject_identifier,\n",
    "            defaults={'adol_firstname': adol_assent.first_name,\n",
    "                      'adol_lastname': adol_assent.last_name,\n",
    "                      'adol_gender': adol_assent.gender,\n",
    "                      'adol_dob': adol_assent.dob, })\n",
    "        if not created:\n",
    "            print('exists', adol_assent.subject_identifier)\n"
   ]
  },
  {
   "cell_type": "code",
   "execution_count": null,
   "id": "183c1c40",
   "metadata": {},
   "outputs": [],
   "source": []
  }
 ],
 "metadata": {
  "kernelspec": {
   "display_name": "Django Shell-Plus",
   "language": "python",
   "name": "django_extensions"
  },
  "language_info": {
   "codemirror_mode": {
    "name": "ipython",
    "version": 3
   },
   "file_extension": ".py",
   "mimetype": "text/x-python",
   "name": "python",
   "nbconvert_exporter": "python",
   "pygments_lexer": "ipython3",
   "version": "3.8.13"
  }
 },
 "nbformat": 4,
 "nbformat_minor": 5
}
