{
 "cells": [
  {
   "cell_type": "code",
   "execution_count": 2,
   "id": "96308792",
   "metadata": {},
   "outputs": [],
   "source": [
    "import os, sys\n",
    "import django\n",
    "sys.path.append('../') # add path to project root dir\n",
    "os.environ[\"DJANGO_SETTINGS_MODULE\"] = \"flourish.settings\"\n",
    "from django.apps import apps as django_apps\n",
    "from django.forms import forms\n",
    "os.environ[\"DJANGO_ALLOW_ASYNC_UNSAFE\"] = \"true\""
   ]
  },
  {
   "cell_type": "code",
   "execution_count": 3,
   "id": "f31d1cb6",
   "metadata": {},
   "outputs": [],
   "source": [
    "subject_identifier = 'B142-040991259-8'\n",
    "\n",
    "onsch_fu = OnScheduleCohortCFU.objects.get(subject_identifier=subject_identifier)"
   ]
  },
  {
   "cell_type": "code",
   "execution_count": 5,
   "id": "c8273c9d",
   "metadata": {},
   "outputs": [
    {
     "data": {
      "text/plain": [
       "<OnScheduleCohortCFUSeq: B142-040991259-8 2024-12-10>"
      ]
     },
     "execution_count": 5,
     "metadata": {},
     "output_type": "execute_result"
    }
   ],
   "source": [
    "onsch = OnScheduleCohortCFUSeq.objects.get(subject_identifier=subject_identifier)"
   ]
  },
  {
   "cell_type": "code",
   "execution_count": 7,
   "id": "6513d889",
   "metadata": {},
   "outputs": [
    {
     "data": {
      "text/plain": [
       "datetime.datetime(2024, 12, 5, 10, 42, tzinfo=<DstTzInfo 'Africa/Gaborone' CAT+2:00:00 STD>)"
      ]
     },
     "execution_count": 7,
     "metadata": {},
     "output_type": "execute_result"
    }
   ],
   "source": [
    "from datetime import datetime\n",
    "import pytz\n",
    "\n",
    "tz = pytz.timezone('Africa/Gaborone')\n",
    "dt = datetime(2024, 12, 5, 10, 42)\n",
    "dt = dt.astimezone(tz)"
   ]
  },
  {
   "cell_type": "code",
   "execution_count": 8,
   "id": "cef99560",
   "metadata": {},
   "outputs": [],
   "source": [
    "onsch.onschedule_datetime = dt\n",
    "onsch.save()\n",
    "ssh = SubjectScheduleHistory.objects.get(\n",
    "    subject_identifier=onsch.subject_identifier, schedule_name=onsch.schedule_name)\n",
    "ssh.onschedule_datetime = dt\n",
    "ssh.save()"
   ]
  },
  {
   "cell_type": "code",
   "execution_count": 9,
   "id": "933025c6",
   "metadata": {},
   "outputs": [],
   "source": [
    "from edc_visit_schedule.site_visit_schedules import site_visit_schedules\n",
    "_, schedule = site_visit_schedules.get_by_onschedule_model_schedule_name(\n",
    "    onschedule_model=ssh.onschedule_model, name=ssh.schedule_name)\n",
    "schedule.put_on_schedule(\n",
    "    subject_identifier=onsch.subject_identifier,\n",
    "    onschedule_datetime=onsch.onschedule_datetime,\n",
    "    schedule_name=onsch.schedule_name,\n",
    "    base_appt_datetime=onsch.onschedule_datetime)"
   ]
  },
  {
   "cell_type": "code",
   "execution_count": 23,
   "id": "553ca998",
   "metadata": {},
   "outputs": [
    {
     "data": {
      "text/plain": [
       "<CaregiverOffSchedule: B142-040991259-8 2024-12-10>"
      ]
     },
     "execution_count": 23,
     "metadata": {},
     "output_type": "execute_result"
    }
   ],
   "source": [
    "from flourish_caregiver.models import CaregiverOffSchedule\n",
    "\n",
    "onsch_quart = OnScheduleCohortCQuarterly.objects.get(\n",
    "    subject_identifier=subject_identifier, schedule_name='c_quarterly1_schedule1')\n",
    "CaregiverOffSchedule.objects.create(\n",
    "    subject_identifier=subject_identifier,\n",
    "    schedule_name=onsch_quart.schedule_name,\n",
    "    offschedule_datetime=onsch_fu.onschedule_datetime)"
   ]
  },
  {
   "cell_type": "code",
   "execution_count": 10,
   "id": "349ced8f",
   "metadata": {},
   "outputs": [],
   "source": [
    "csh = CohortSchedules.objects.get(schedule_type='followup', cohort_name='cohort_c', child_count=1)"
   ]
  },
  {
   "cell_type": "code",
   "execution_count": 11,
   "id": "dc246601",
   "metadata": {},
   "outputs": [],
   "source": [
    "_, schedule = site_visit_schedules.get_by_onschedule_model_schedule_name(\n",
    "    onschedule_model=csh.onschedule_model, name=csh.schedule_name)\n",
    "schedule.put_on_schedule(\n",
    "    subject_identifier=onsch_fu.subject_identifier,\n",
    "    onschedule_datetime=onsch_fu.onschedule_datetime,\n",
    "    schedule_name=csh.schedule_name,\n",
    "    base_appt_datetime=onsch_fu.onschedule_datetime)"
   ]
  },
  {
   "cell_type": "code",
   "execution_count": 18,
   "id": "c2dbf9de",
   "metadata": {},
   "outputs": [],
   "source": [
    "new_onsch = OnScheduleCohortCFU.objects.get(subject_identifier=onsch_fu.subject_identifier,\n",
    "                                            schedule_name=csh.schedule_name)\n",
    "new_onsch.child_subject_identifier='B142-040991259-8-10'\n",
    "new_onsch.save()"
   ]
  },
  {
   "cell_type": "code",
   "execution_count": 19,
   "id": "a85278c2",
   "metadata": {},
   "outputs": [],
   "source": [
    "from edc_appointment.models import Appointment\n",
    "\n",
    "visit = MaternalVisit.objects.get(\n",
    "    subject_identifier=subject_identifier, schedule_name=onsch_fu.schedule_name)\n",
    "visit_appt = visit.appointment\n",
    "new_appt = Appointment.objects.get(subject_identifier=subject_identifier,\n",
    "                                   schedule_name=new_onsch.schedule_name)\n",
    "new_appt.appt_datetime = visit_appt.appt_datetime\n",
    "new_appt.appt_type = visit_appt.appt_type\n",
    "new_appt.appt_status = visit_appt.appt_status\n",
    "new_appt.appt_reason = visit_appt.appt_reason\n",
    "new_appt.comment = visit_appt.comment\n",
    "new_appt.save()\n",
    "visit.appointment = new_appt\n",
    "visit.schedule_name = new_appt.schedule_name\n",
    "visit.visit_schedule_name = new_appt.visit_schedule_name\n",
    "visit.save()"
   ]
  },
  {
   "cell_type": "code",
   "execution_count": 21,
   "id": "5ba17eb7",
   "metadata": {},
   "outputs": [
    {
     "data": {
      "text/plain": [
       "(1, {'flourish_caregiver.OnScheduleCohortCFU': 1})"
      ]
     },
     "execution_count": 21,
     "metadata": {},
     "output_type": "execute_result"
    }
   ],
   "source": [
    "old_appt = Appointment.objects.get(\n",
    "    subject_identifier=subject_identifier, schedule_name=onsch_fu.schedule_name)\n",
    "ssh = SubjectScheduleHistory.objects.get(\n",
    "    subject_identifier=subject_identifier, schedule_name=onsch_fu.schedule_name)\n",
    "ssh.delete()\n",
    "old_appt.delete()\n",
    "onsch_fu.delete()"
   ]
  },
  {
   "cell_type": "code",
   "execution_count": null,
   "id": "2b20a1be",
   "metadata": {},
   "outputs": [],
   "source": []
  }
 ],
 "metadata": {
  "kernelspec": {
   "display_name": "Django Shell-Plus",
   "language": "python",
   "name": "django_extensions"
  },
  "language_info": {
   "codemirror_mode": {
    "name": "ipython",
    "version": 3
   },
   "file_extension": ".py",
   "mimetype": "text/x-python",
   "name": "python",
   "nbconvert_exporter": "python",
   "pygments_lexer": "ipython3",
   "version": "3.8.13"
  }
 },
 "nbformat": 4,
 "nbformat_minor": 5
}
