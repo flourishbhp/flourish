{
 "cells": [
  {
   "cell_type": "code",
   "execution_count": 3,
   "id": "3fbcab43",
   "metadata": {},
   "outputs": [],
   "source": [
    "import os, sys\n",
    "import django\n",
    "from datetime import datetime\n",
    "sys.path.append('../') # add path to project root dir\n",
    "import pandas as pd\n",
    "os.environ[\"DJANGO_SETTINGS_MODULE\"] = \"flourish.settings\"\n",
    "from django.apps import apps as django_apps\n",
    "os.environ[\"DJANGO_ALLOW_ASYNC_UNSAFE\"] = \"true\""
   ]
  },
  {
   "cell_type": "code",
   "execution_count": 4,
   "id": "5ee3aadc",
   "metadata": {
    "scrolled": true
   },
   "outputs": [
    {
     "ename": "FileNotFoundError",
     "evalue": "[Errno 2] No such file or directory: 'flourish_caregiver_medicalhistory.json'",
     "output_type": "error",
     "traceback": [
      "\u001b[0;31m---------------------------------------------------------------------------\u001b[0m",
      "\u001b[0;31mFileNotFoundError\u001b[0m                         Traceback (most recent call last)",
      "Cell \u001b[0;32mIn[4], line 6\u001b[0m\n\u001b[1;32m      3\u001b[0m \u001b[38;5;28;01mfrom\u001b[39;00m \u001b[38;5;21;01mtqdm\u001b[39;00m \u001b[38;5;28;01mimport\u001b[39;00m tqdm\n\u001b[1;32m      4\u001b[0m \u001b[38;5;28;01mfrom\u001b[39;00m \u001b[38;5;21;01mflourish_caregiver\u001b[39;00m\u001b[38;5;21;01m.\u001b[39;00m\u001b[38;5;21;01mmodels\u001b[39;00m \u001b[38;5;28;01mimport\u001b[39;00m GeneralSymptoms\n\u001b[0;32m----> 6\u001b[0m flourish_caregiver_file \u001b[38;5;241m=\u001b[39m \u001b[38;5;28;43mopen\u001b[39;49m\u001b[43m(\u001b[49m\u001b[38;5;124;43m'\u001b[39;49m\u001b[38;5;124;43mflourish_caregiver_medicalhistory.json\u001b[39;49m\u001b[38;5;124;43m'\u001b[39;49m\u001b[43m)\u001b[49m\n\u001b[1;32m      8\u001b[0m data_list \u001b[38;5;241m=\u001b[39m json\u001b[38;5;241m.\u001b[39mload(flourish_caregiver_file)\n\u001b[1;32m      9\u001b[0m errors \u001b[38;5;241m=\u001b[39m []\n",
      "File \u001b[0;32m~/anaconda3/envs/flourish/lib/python3.11/site-packages/IPython/core/interactiveshell.py:284\u001b[0m, in \u001b[0;36m_modified_open\u001b[0;34m(file, *args, **kwargs)\u001b[0m\n\u001b[1;32m    277\u001b[0m \u001b[38;5;28;01mif\u001b[39;00m file \u001b[38;5;129;01min\u001b[39;00m {\u001b[38;5;241m0\u001b[39m, \u001b[38;5;241m1\u001b[39m, \u001b[38;5;241m2\u001b[39m}:\n\u001b[1;32m    278\u001b[0m     \u001b[38;5;28;01mraise\u001b[39;00m \u001b[38;5;167;01mValueError\u001b[39;00m(\n\u001b[1;32m    279\u001b[0m         \u001b[38;5;124mf\u001b[39m\u001b[38;5;124m\"\u001b[39m\u001b[38;5;124mIPython won\u001b[39m\u001b[38;5;124m'\u001b[39m\u001b[38;5;124mt let you open fd=\u001b[39m\u001b[38;5;132;01m{\u001b[39;00mfile\u001b[38;5;132;01m}\u001b[39;00m\u001b[38;5;124m by default \u001b[39m\u001b[38;5;124m\"\u001b[39m\n\u001b[1;32m    280\u001b[0m         \u001b[38;5;124m\"\u001b[39m\u001b[38;5;124mas it is likely to crash IPython. If you know what you are doing, \u001b[39m\u001b[38;5;124m\"\u001b[39m\n\u001b[1;32m    281\u001b[0m         \u001b[38;5;124m\"\u001b[39m\u001b[38;5;124myou can use builtins\u001b[39m\u001b[38;5;124m'\u001b[39m\u001b[38;5;124m open.\u001b[39m\u001b[38;5;124m\"\u001b[39m\n\u001b[1;32m    282\u001b[0m     )\n\u001b[0;32m--> 284\u001b[0m \u001b[38;5;28;01mreturn\u001b[39;00m \u001b[43mio_open\u001b[49m\u001b[43m(\u001b[49m\u001b[43mfile\u001b[49m\u001b[43m,\u001b[49m\u001b[43m \u001b[49m\u001b[38;5;241;43m*\u001b[39;49m\u001b[43margs\u001b[49m\u001b[43m,\u001b[49m\u001b[43m \u001b[49m\u001b[38;5;241;43m*\u001b[39;49m\u001b[38;5;241;43m*\u001b[39;49m\u001b[43mkwargs\u001b[49m\u001b[43m)\u001b[49m\n",
      "\u001b[0;31mFileNotFoundError\u001b[0m: [Errno 2] No such file or directory: 'flourish_caregiver_medicalhistory.json'"
     ]
    }
   ],
   "source": [
    "import json\n",
    "from django.db.models.signals import post_save, pre_save\n",
    "from tqdm import tqdm\n",
    "from flourish_caregiver.models import GeneralSymptoms\n",
    "\n",
    "flourish_caregiver_file = open('flourish_caregiver_medicalhistory.json')\n",
    "\n",
    "data_list = json.load(flourish_caregiver_file)\n",
    "errors = []\n",
    "\n",
    "pre_save.disconnect(sender=MedicalHistory)\n",
    "post_save.disconnect(sender=MedicalHistory)\n",
    "\n",
    "for data_dict in tqdm(data_list):\n",
    "    model_cls = django_apps.get_model(data_dict['model'])\n",
    "\n",
    "    try:\n",
    "        model_obj = model_cls.objects.get(pk = data_dict['pk'])\n",
    "    except model_cls.DoesNotExist:\n",
    "        pass\n",
    "    else:\n",
    "        current_symptoms_value = data_dict['fields'].get('current_symptoms', '')\n",
    "\n",
    "        general_symptoms_objs = GeneralSymptoms.objects.filter(\n",
    "            short_name = current_symptoms_value)\n",
    "\n",
    "        model_obj.current_symptoms.set(general_symptoms_objs)\n",
    "\n",
    "        try:\n",
    "            model_obj.save()\n",
    "        except Exception as e:\n",
    "            subject_identifier = model_obj.maternal_visit.subject_identifier\n",
    "            errors.append({\n",
    "                'subject_identifier': subject_identifier,\n",
    "                'exception': e})\n",
    "\n",
    "\n",
    "\n"
   ]
  },
  {
   "cell_type": "code",
   "execution_count": null,
   "id": "9454c4ae",
   "metadata": {},
   "outputs": [],
   "source": [
    "import concurrent.futures, multiprocessing, threading\n",
    "from tqdm import tqdm\n",
    "\n",
    "\n",
    "\n",
    "\n",
    "import json\n",
    "from django.apps import apps as django_apps\n",
    "from django.db.models.signals import pre_save, post_save\n",
    "from flourish_child.models import *\n",
    "import os\n",
    "\n",
    "\n",
    "\n",
    "num_cores = os.cpu_count()\n",
    "\n",
    "recommended_threads = min(8, num_cores)  # For example, limit to 8 threads\n",
    "\n",
    "# Using ThreadPoolExecutor to parallelize the for loop\n",
    "with concurrent.futures.ThreadPoolExecutor(max_workers=recommended_threads) as executor:\n",
    "    \n",
    "    print('=== querysets to be updated====')\n",
    "\n",
    "    # Map the function to the items, running in parallel\n",
    "    _ = tqdm(executor.map(update_queryset, data_list), total=len(data_list))\n"
   ]
  },
  {
   "cell_type": "code",
   "execution_count": null,
   "id": "495a4699",
   "metadata": {},
   "outputs": [],
   "source": [
    "def populate():\n",
    "    for data_dict in tqdm(data_list):\n",
    "    model_cls = django_apps.get_model(data_dict['model'])\n",
    "\n",
    "    try:\n",
    "        model_obj = model_cls.objects.get(pk = data_dict['pk'])\n",
    "    except model_cls.DoesNotExist:\n",
    "        pass\n",
    "    else:\n",
    "        current_symptoms_value = data_dict['fields'].get('current_symptoms', '')\n",
    "        current_medications_value = data_dict['fields'].get('current_medications', '')\n",
    "\n",
    "        general_symptoms_objs = GeneralSymptoms.objects.filter(\n",
    "            short_name = current_symptoms_value)\n",
    "\n",
    "        medications_objs = Medications.objects.filter(\n",
    "        short_name = current_medications_value)\n",
    "\n",
    "        model_obj.current_symptoms.set(general_symptoms_objs)\n",
    "        model_obj.current_medications.set(medications_objs)\n",
    "\n",
    "        try:\n",
    "            model_obj.save()\n",
    "        except Exception as e:\n",
    "            subject_identifier = model_obj.child_visit.subject_identifier\n",
    "            errors.append({\n",
    "                'subject_identifier': subject_identifier,\n",
    "                'exception': e})\n"
   ]
  },
  {
   "cell_type": "code",
   "execution_count": null,
   "id": "6db9ef78",
   "metadata": {},
   "outputs": [],
   "source": []
  },
  {
   "cell_type": "code",
   "execution_count": null,
   "id": "ce146acf",
   "metadata": {},
   "outputs": [],
   "source": []
  }
 ],
 "metadata": {
  "kernelspec": {
   "display_name": "Django Shell-Plus",
   "language": "python",
   "name": "django_extensions"
  },
  "language_info": {
   "codemirror_mode": {
    "name": "ipython",
    "version": 3
   },
   "file_extension": ".py",
   "mimetype": "text/x-python",
   "name": "python",
   "nbconvert_exporter": "python",
   "pygments_lexer": "ipython3",
   "version": "3.11.3"
  }
 },
 "nbformat": 4,
 "nbformat_minor": 5
}
