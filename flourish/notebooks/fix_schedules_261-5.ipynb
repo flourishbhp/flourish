{
 "cells": [
  {
   "cell_type": "code",
   "execution_count": null,
   "metadata": {},
   "outputs": [],
   "source": [
    "import os, sys,pytz\n",
    "import django\n",
    "from datetime import datetime\n",
    "sys.path.append('../..') # add path to project root dir\n",
    "os.environ[\"DJANGO_SETTINGS_MODULE\"] = \"flourish.settings\"\n",
    "from django.apps import apps as django_apps\n",
    "os.environ[\"DJANGO_ALLOW_ASYNC_UNSAFE\"] = \"true\"\n",
    "from django.apps import apps as django_apps\n",
    "\n",
    "django.setup()"
   ]
  },
  {
   "cell_type": "markdown",
   "metadata": {},
   "source": [
    "Remove mother from the Sec Quarytaely Aims Schedule\n"
   ]
  },
  {
   "cell_type": "code",
   "execution_count": null,
   "metadata": {},
   "outputs": [],
   "source": [
    "from edc_visit_schedule.models import SubjectScheduleHistory\n",
    "\n",
    "subject_identifier = 'B142-040990261-5'\n",
    "schedule_name_mother = 'c_sec_quart1_schedule1'\n",
    "\n",
    "subject_history_obj = SubjectScheduleHistory.objects.get(\n",
    "subject_identifier=subject_identifier,\n",
    "schedule_name = schedule_name_mother\n",
    ")\n",
    "\n",
    "onschedule_model_cls= django_apps.get_model(subject_history_obj.onschedule_model)\n",
    "\n",
    "onschedule_model_obj = onschedule_model_cls.objects.get(\n",
    "    subject_identifier=subject_identifier,\n",
    "    schedule_name=schedule_name_mother,\n",
    "    onschedule_datetime=subject_history_obj.onschedule_datetime,\n",
    ")\n",
    "\n",
    "onschedule_model_obj.delete()\n",
    "subject_history_obj.delete()\n"
   ]
  },
  {
   "cell_type": "code",
   "execution_count": null,
   "metadata": {},
   "outputs": [],
   "source": [
    "from edc_appointment.models import Appointment\n",
    "\n",
    "appointments_visit_codes = ['2007M']\n",
    "mother_appointments = Appointment.objects.filter(subject_identifier=subject_identifier,\n",
    "                                                 schedule_name=schedule_name_mother)\n",
    "\n",
    "for appointemnt in mother_appointments:\n",
    "    if appointemnt.visit_code in appointments_visit_codes:\n",
    "        print(f'Deleting {appointemnt.visit_code}')\n",
    "        appointemnt.delete()"
   ]
  }
 ],
 "metadata": {
  "kernelspec": {
   "display_name": "flourish",
   "language": "python",
   "name": "python3"
  },
  "language_info": {
   "codemirror_mode": {
    "name": "ipython",
    "version": 3
   },
   "file_extension": ".py",
   "mimetype": "text/x-python",
   "name": "python",
   "nbconvert_exporter": "python",
   "pygments_lexer": "ipython3",
   "version": "3.11.3"
  },
  "orig_nbformat": 4
 },
 "nbformat": 4,
 "nbformat_minor": 2
}
