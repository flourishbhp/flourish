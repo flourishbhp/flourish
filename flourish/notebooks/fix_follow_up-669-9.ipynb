{
 "cells": [
  {
   "cell_type": "code",
   "execution_count": null,
   "metadata": {},
   "outputs": [],
   "source": [
    "import os, sys,pytz\n",
    "import django\n",
    "from datetime import datetime\n",
    "sys.path.append('../..') # add path to project root dir\n",
    "os.environ[\"DJANGO_SETTINGS_MODULE\"] = \"flourish.settings\"\n",
    "from django.apps import apps as django_apps\n",
    "os.environ[\"DJANGO_ALLOW_ASYNC_UNSAFE\"] = \"true\"\n",
    "from django.apps import apps as django_apps\n",
    "\n",
    "django.setup()\n",
    "\n",
    "tz = pytz.timezone('Africa/Gaborone')"
   ]
  },
  {
   "cell_type": "markdown",
   "metadata": {},
   "source": [
    "Remove mother from Quaterly schedule and put them on the follow up schedule to match the child "
   ]
  },
  {
   "cell_type": "code",
   "execution_count": 2,
   "metadata": {},
   "outputs": [
    {
     "name": "stdout",
     "output_type": "stream",
     "text": [
      "Taken of a_quarterly2_schedule1\n",
      "Participant B142-040990669-9 is offschduele a_quarterly2_schedule1\n"
     ]
    }
   ],
   "source": [
    "from flourish_caregiver.models import CaregiverOffSchedule\n",
    "from flourish_child.models import ChildOffSchedule\n",
    "from edc_visit_schedule.site_visit_schedules import site_visit_schedules\n",
    "from edc_visit_schedule.models import SubjectScheduleHistory\n",
    "from edc_visit_schedule.constants import ON_SCHEDULE,OFF_SCHEDULE\n",
    "\n",
    "\n",
    "child_offschedule = ChildOffSchedule.objects.get(subject_identifier='B142-040990669-9-60',schedule_name='child_a_quart_schedule1')\n",
    "offschedule_date = child_offschedule.offschedule_datetime.astimezone(tz)\n",
    "\n",
    "subject_identifier = 'B142-040990669-9'\n",
    "schedule_name = 'a_quarterly2_schedule1'\n",
    "\n",
    "\n",
    "_, schedule = site_visit_schedules.get_by_onschedule_model_schedule_name(\n",
    "    onschedule_model='flourish_caregiver.onschedulecohortaquarterly',name=schedule_name\n",
    ")\n",
    "\n",
    "schedule.take_off_schedule(\n",
    "    subject_identifier=subject_identifier,\n",
    "    offschedule_datetime=offschedule_date,\n",
    "    schedule_name=schedule_name\n",
    ")\n",
    "\n",
    "print(\"Taken of\",schedule)\n",
    "\n",
    "\n",
    "try:    \n",
    "    subject_history = SubjectScheduleHistory.objects.get(subject_identifier=subject_identifier,schedule_name=schedule_name)\n",
    "except SubjectScheduleHistory.DoesNotExist:\n",
    "    pass\n",
    "else:\n",
    "    subject_history.offschedule_datetime =offschedule_date\n",
    "    subject_history.schedule_status = OFF_SCHEDULE\n",
    "\n",
    "    print(f'Participant {subject_identifier} is offschduele {schedule_name}')"
   ]
  },
  {
   "cell_type": "code",
   "execution_count": 3,
   "metadata": {},
   "outputs": [
    {
     "name": "stdout",
     "output_type": "stream",
     "text": [
      "Schedule created for a_fu2_schedule1\n"
     ]
    }
   ],
   "source": [
    "from flourish_caregiver.models import MaternalVisit\n",
    "\n",
    "new_schedule_name = 'a_fu2_schedule1'\n",
    "maternal_visit = MaternalVisit.objects.get(subject_identifier=subject_identifier,visit_code='2000M')\n",
    "report_datetime = maternal_visit.report_datetime\n",
    "report_datetime = report_datetime.astimezone(tz)\n",
    "\n",
    "_, schedule = site_visit_schedules.get_by_onschedule_model_schedule_name(\n",
    "    onschedule_model='flourish_caregiver.onschedulecohortafu',name=new_schedule_name\n",
    ")\n",
    "schedule.put_on_schedule(\n",
    "    subject_identifier=subject_identifier,onschedule_datetime=offschedule_date,\n",
    "    schedule_name=new_schedule_name,base_appt_datetime=offschedule_date\n",
    ")\n",
    "print(\"Schedule created for\",schedule)"
   ]
  },
  {
   "cell_type": "code",
   "execution_count": 5,
   "metadata": {},
   "outputs": [
    {
     "name": "stdout",
     "output_type": "stream",
     "text": [
      "Linked with child\n"
     ]
    }
   ],
   "source": [
    "from flourish_caregiver.models import OnScheduleCohortAFU\n",
    "onschedule_mother = OnScheduleCohortAFU.objects.get(subject_identifier=subject_identifier,child_subject_identifier='')\n",
    "onschedule_mother.child_subject_identifier= child_offschedule.subject_identifier\n",
    "onschedule_mother.save()\n",
    "\n",
    "print(\"Linked with child\")"
   ]
  }
 ],
 "metadata": {
  "kernelspec": {
   "display_name": "flourish",
   "language": "python",
   "name": "python3"
  },
  "language_info": {
   "codemirror_mode": {
    "name": "ipython",
    "version": 3
   },
   "file_extension": ".py",
   "mimetype": "text/x-python",
   "name": "python",
   "nbconvert_exporter": "python",
   "pygments_lexer": "ipython3",
   "version": "3.11.3"
  }
 },
 "nbformat": 4,
 "nbformat_minor": 2
}
