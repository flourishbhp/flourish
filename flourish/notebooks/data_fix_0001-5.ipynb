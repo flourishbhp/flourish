{
 "cells": [
  {
   "cell_type": "code",
   "execution_count": null,
   "metadata": {},
   "outputs": [],
   "source": [
    "import os, sys\n",
    "import django\n",
    "from datetime import datetime\n",
    "sys.path.append('../..') # add path to project root dir\n",
    "os.environ[\"DJANGO_SETTINGS_MODULE\"] = \"flourish.settings\"\n",
    "from django.apps import apps as django_apps\n",
    "os.environ[\"DJANGO_ALLOW_ASYNC_UNSAFE\"] = \"true\"\n",
    "from django.apps import apps as django_apps\n",
    "\n",
    "django.setup()"
   ]
  },
  {
   "cell_type": "code",
   "execution_count": null,
   "metadata": {},
   "outputs": [],
   "source": [
    "from flourish_caregiver.models import SocioDemographicData\n",
    "\n",
    "subject_identifier = 'B142-040990001-5'\n",
    "visit_codes = ['2001M','2002M','2000M']\n",
    "correct_highest_edu = 'Junior Secondary'\n",
    "\n",
    "socio_demographics = SocioDemographicData.objects.filter(maternal_visit__subject_identifier=subject_identifier)\n",
    "\n",
    "for socio_demograpic in socio_demographics:\n",
    "    if socio_demograpic.maternal_visit.visit_code in visit_codes:\n",
    "        socio_demograpic.highest_education=correct_highest_edu\n",
    "        print(f'Visit {socio_demograpic.maternal_visit.visit_code}')\n",
    "        socio_demograpic.save()\n",
    "\n",
    "\n",
    "\n"
   ]
  }
 ],
 "metadata": {
  "kernelspec": {
   "display_name": "flourish",
   "language": "python",
   "name": "python3"
  },
  "language_info": {
   "codemirror_mode": {
    "name": "ipython",
    "version": 3
   },
   "file_extension": ".py",
   "mimetype": "text/x-python",
   "name": "python",
   "nbconvert_exporter": "python",
   "pygments_lexer": "ipython3",
   "version": "3.11.3"
  }
 },
 "nbformat": 4,
 "nbformat_minor": 2
}
