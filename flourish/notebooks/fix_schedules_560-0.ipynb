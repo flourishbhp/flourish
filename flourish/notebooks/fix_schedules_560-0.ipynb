{
 "cells": [
  {
   "cell_type": "code",
   "execution_count": null,
   "metadata": {},
   "outputs": [],
   "source": [
    "import os, sys,pytz\n",
    "import django\n",
    "from datetime import datetime\n",
    "sys.path.append('../..') # add path to project root dir\n",
    "os.environ[\"DJANGO_SETTINGS_MODULE\"] = \"flourish.settings\"\n",
    "from django.apps import apps as django_apps\n",
    "os.environ[\"DJANGO_ALLOW_ASYNC_UNSAFE\"] = \"true\"\n",
    "\n",
    "django.setup()"
   ]
  },
  {
   "cell_type": "markdown",
   "metadata": {},
   "source": [
    "Put mother on follow up schedule and link to the child pid 560-0 on dashboard for -60\n"
   ]
  },
  {
   "cell_type": "code",
   "execution_count": null,
   "metadata": {},
   "outputs": [],
   "source": [
    "from edc_visit_schedule.models import SubjectScheduleHistory\n",
    "\n",
    "subject_identifier = 'B142-040990560-0'\n",
    "child_subject_identifier ='B142-040990560-0-60'\n",
    "schedule_name_child = 'child_a_fu_schedule1'\n",
    "\n",
    "subject_history_obj_child = SubjectScheduleHistory.objects.get(\n",
    "subject_identifier=child_subject_identifier,\n",
    "schedule_name = schedule_name_child\n",
    ")\n",
    "\n",
    "onschedule_datetime =subject_history_obj_child.onschedule_datetime\n"
   ]
  },
  {
   "cell_type": "code",
   "execution_count": null,
   "metadata": {},
   "outputs": [],
   "source": [
    "from edc_visit_schedule.site_visit_schedules import site_visit_schedules\n",
    "from flourish_caregiver.models import OnScheduleCohortAFU\n",
    "from flourish_child.models.onschedule import OnScheduleChildCohortAFU\n",
    "import pytz\n",
    "tz = pytz.timezone('Africa/Gaborone')\n",
    "\n",
    "        \n",
    "child_schedule = OnScheduleChildCohortAFU.objects.get(subject_identifier=child_subject_identifier)\n",
    "schedule_name= 'a_fu3_schedule1'\n",
    "\n",
    "_, schedule = site_visit_schedules.get_by_onschedule_model_schedule_name(\n",
    "    onschedule_model='flourish_caregiver.onschedulecohortafu',name=schedule_name\n",
    ")\n",
    "schedule.put_on_schedule(\n",
    "    subject_identifier=subject_identifier,onschedule_datetime=onschedule_datetime,\n",
    "    schedule_name=schedule_name,base_appt_datetime=onschedule_datetime\n",
    ")\n",
    "print(\"Schedule created for\",schedule)\n",
    "\n",
    "onschdule_mother = OnScheduleCohortAFU.objects.get(subject_identifier=subject_identifier,child_subject_identifier='')\n",
    "onschdule_mother.child_subject_identifier =child_schedule.subject_identifier\n",
    "onschdule_mother.save()\n",
    "\n",
    "print(\"Linked with child\")\n"
   ]
  },
  {
   "cell_type": "markdown",
   "metadata": {},
   "source": [
    "Take Mother off the Third child Quarterly schedule for -60"
   ]
  },
  {
   "cell_type": "code",
   "execution_count": null,
   "metadata": {},
   "outputs": [],
   "source": [
    "\n",
    "\n",
    "schedule_name = 'a_quarterly3_schedule1'\n",
    "\n",
    "\n",
    "_, schedule = site_visit_schedules.get_by_onschedule_model_schedule_name(\n",
    "    onschedule_model='flourish_caregiver.onschedulecohortaquarterly',name=schedule_name\n",
    ")\n",
    "\n",
    "schedule.take_off_schedule(subject_identifier=subject_identifier,offschedule_datetime=onschedule_datetime,\n",
    "                           schedule_name=schedule_name)\n",
    "\n",
    "print(\"Taken off\",schedule)\n"
   ]
  }
 ],
 "metadata": {
  "kernelspec": {
   "display_name": "flourish",
   "language": "python",
   "name": "python3"
  },
  "language_info": {
   "codemirror_mode": {
    "name": "ipython",
    "version": 3
   },
   "file_extension": ".py",
   "mimetype": "text/x-python",
   "name": "python",
   "nbconvert_exporter": "python",
   "pygments_lexer": "ipython3",
   "version": "3.11.3"
  },
  "orig_nbformat": 4
 },
 "nbformat": 4,
 "nbformat_minor": 2
}
