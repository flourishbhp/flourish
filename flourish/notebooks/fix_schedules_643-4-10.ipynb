{
 "cells": [
  {
   "cell_type": "code",
   "execution_count": null,
   "metadata": {},
   "outputs": [],
   "source": [
    "import os, sys,pytz\n",
    "import django\n",
    "from datetime import datetime\n",
    "sys.path.append('../..') # add path to project root dir\n",
    "os.environ[\"DJANGO_SETTINGS_MODULE\"] = \"flourish.settings\"\n",
    "from django.apps import apps as django_apps\n",
    "os.environ[\"DJANGO_ALLOW_ASYNC_UNSAFE\"] = \"true\"\n",
    "from django.apps import apps as django_apps\n",
    "\n",
    "django.setup()"
   ]
  },
  {
   "cell_type": "markdown",
   "metadata": {},
   "source": [
    "Remove child from the Child Quarterly Schedule to match mother\n"
   ]
  },
  {
   "cell_type": "code",
   "execution_count": null,
   "metadata": {},
   "outputs": [],
   "source": [
    "from edc_visit_schedule.models import SubjectScheduleHistory\n",
    "\n",
    "subject_identifier = 'B142-040990643-4'\n",
    "schedule_name = 'c_fu1_schedule1'\n",
    "\n",
    "subject_history_obj = SubjectScheduleHistory.objects.get(\n",
    "subject_identifier=subject_identifier,\n",
    "schedule_name = schedule_name\n",
    ")\n",
    "\n",
    "onschedule_datetime =subject_history_obj.onschedule_datetime\n",
    "\n"
   ]
  },
  {
   "cell_type": "code",
   "execution_count": null,
   "metadata": {},
   "outputs": [],
   "source": [
    "schedule_name = 'child_c_quart_schedule1'\n",
    "from edc_visit_schedule.site_visit_schedules import site_visit_schedules\n",
    "\n",
    "subject_identifier = 'B142-040990643-4-10'\n",
    "\n",
    "_, schedule = site_visit_schedules.get_by_onschedule_model_schedule_name(\n",
    "    onschedule_model='flourish_child.onschedulechildcohortcquarterly',name=schedule_name\n",
    ")\n",
    "\n",
    "schedule.take_off_schedule(subject_identifier=subject_identifier,offschedule_datetime=onschedule_datetime,\n",
    "                           schedule_name=schedule_name)\n",
    "\n",
    "print(\"Taken off\",schedule)"
   ]
  }
 ],
 "metadata": {
  "kernelspec": {
   "display_name": "flourish",
   "language": "python",
   "name": "python3"
  },
  "language_info": {
   "codemirror_mode": {
    "name": "ipython",
    "version": 3
   },
   "file_extension": ".py",
   "mimetype": "text/x-python",
   "name": "python",
   "nbconvert_exporter": "python",
   "pygments_lexer": "ipython3",
   "version": "3.11.3"
  },
  "orig_nbformat": 4
 },
 "nbformat": 4,
 "nbformat_minor": 2
}
