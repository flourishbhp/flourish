{
 "cells": [
  {
   "cell_type": "code",
   "execution_count": null,
   "metadata": {},
   "outputs": [],
   "source": [
    "import os\n",
    "import sys\n",
    "import django\n",
    "\n",
    "sys.path.append('../')  # add path to project root dir\n",
    "\n",
    "os.environ[\"DJANGO_SETTINGS_MODULE\"] = \"flourish.settings\"\n",
    "from django.apps import apps as django_apps\n",
    "\n",
    "os.environ[\"DJANGO_ALLOW_ASYNC_UNSAFE\"] = \"true\"\n",
    "\n",
    "django.setup()"
   ]
  },
  {
   "cell_type": "code",
   "execution_count": null,
   "metadata": {},
   "outputs": [],
   "source": [
    "from flourish_caregiver.models import SocioDemographicData,HouseHoldDetails\n",
    "from edc_constants.constants import NOT_APPLICABLE,YES,NO\n",
    "import csv\n",
    "\n",
    "participants= {'B142-040990096-5':{'B142-040990096-5-70':['3001M','3006M']},\n",
    "                      'B142-040990786-1':{'B142-040990786-1-10':['2008M','2009M']},\n",
    "                      'B142-040990786-1':{'B142-040990786-1-60':['3000C','3001M']}\n",
    "}\n",
    "\n",
    "\n",
    "for participant_id,child in participants.items():\n",
    "    print(\"intial_dictionary\",participant_id,child)\n",
    "    for child_id,visits in child.items():\n",
    "        print(\"child_id_dictionary\",child_id,visits)\n",
    "        for visit in visits:\n",
    "            print(\"Visit we are at\",visit)\n",
    "            socio_demographics = SocioDemographicData.objects.filter(maternal_visit__subject_identifier=participant_id,\n",
    "                                                                    maternal_visit__visit_code=visit)\n",
    "            print(\"Socio list\",socio_demographics)\n",
    "            for socio_demographic in socio_demographics: \n",
    "                if child_id == socio_demographic.child_subject_identifier:\n",
    "                    print(\"child_pid\",socio_demographic.child_subject_identifier)\n",
    "                    house_hold_details = HouseHoldDetails.objects.filter(\n",
    "                        socio_demographics_data__maternal_visit__subject_identifier=participant_id)\n",
    "                    socio_demographic.stay_with_child = house_hold_details[0].stay_with_child\n",
    "                    socio_demographic.save()\n",
    "                    print(\"Socio\",socio_demographic.stay_with_child)\n",
    "\n",
    "                    for houhouse_hold_detail in house_hold_details:\n",
    "                        if houhouse_hold_detail.socio_demographics_data.child_subject_identifier == child_id:\n",
    "                            print(\"House_hold\",houhouse_hold_detail.socio_demographics_data.child_subject_identifier)\n",
    "                            houhouse_hold_detail.delete()\n",
    "                            \n"
   ]
  },
  {
   "cell_type": "markdown",
   "metadata": {},
   "source": [
    "write script to correct stay_with_child \"Yes\" or \"No\" at 1000M visits to \"N/A\" (see blue rows in attachment for pids)."
   ]
  },
  {
   "cell_type": "code",
   "execution_count": null,
   "metadata": {},
   "outputs": [],
   "source": [
    "socio_demographics = SocioDemographicData.objects.filter(maternal_visit__visit_code='1000M')\n",
    "\n",
    "for socio_demographic in socio_demographics:\n",
    "    if socio_demographic.stay_with_child == YES or socio_demographic.stay_with_child == NO:\n",
    "        socio_demographic.stay_with_child = NOT_APPLICABLE\n",
    "        socio_demographic.save()\n",
    "        print(socio_demographic.maternal_visit.subject_identifier)"
   ]
  },
  {
   "cell_type": "markdown",
   "metadata": {},
   "source": [
    "for subject 0369-6-10: stay_with_child at 2009M visit should not be \"N/A\" (yellow row in attachment). Please correct to \"No\". This is the value reported for `stay_with_caregiver` on Child sociodemographics at 2009 visit."
   ]
  },
  {
   "cell_type": "code",
   "execution_count": null,
   "metadata": {},
   "outputs": [],
   "source": [
    "subject_identifier = 'B142-040990369-6'\n",
    "child_pid = 'B142-040990369-6-10'\n",
    "\n",
    "socio_demographics = SocioDemographicData.objects.filter(maternal_visit__subject_identifier=subject_identifier,maternal_visit__visit_code='2009M')\n",
    "\n",
    "for socio_demographic in socio_demographics:\n",
    "    if socio_demographic.child_subject_identifier == child_pid:\n",
    "        socio_demographic.stay_with_child = NO\n",
    "        socio_demographic.save()\n",
    "        print(socio_demographic.maternal_visit.subject_identifier)\n",
    "    "
   ]
  },
  {
   "cell_type": "markdown",
   "metadata": {},
   "source": [
    "stay_with_child and stay_with_caregiver values reported at any visit other than 1000M cannot == \"N/A\". must have value of \"Yes\" or \"No\""
   ]
  },
  {
   "cell_type": "code",
   "execution_count": null,
   "metadata": {},
   "outputs": [],
   "source": [
    "socio_demographics = SocioDemographicData.objects.exclude(maternal_visit__visit_code='1000M')\n",
    "\n",
    "with open('participants_not_applicable.csv', mode='w', newline='') as file:\n",
    "    writer = csv.writer(file)\n",
    "\n",
    "    writer.writerow(['maternal_identifier','child_identifier', 'Visit Code','stay_with_child']) \n",
    "\n",
    "    for socio_demographic in socio_demographics:\n",
    "        if socio_demographic.stay_with_child == NOT_APPLICABLE:\n",
    "            maternal_identifier = socio_demographic.maternal_visit.subject_identifier\n",
    "            child_identifier = socio_demographic.child_subject_identifier\n",
    "            visit_code = socio_demographic.maternal_visit.visit_code\n",
    "            stay_with_child = socio_demographic.stay_with_child\n",
    "\n",
    "            writer.writerow([maternal_identifier,child_identifier, visit_code, stay_with_child])\n",
    "\n",
    "        "
   ]
  },
  {
   "cell_type": "markdown",
   "metadata": {},
   "source": [
    "stay_with_child in Caregiver sociodemographics and stay_with_caregiver in Child sociodemographics must have the same value across parent and child forms collected for the same child associated with the same visit code"
   ]
  },
  {
   "cell_type": "code",
   "execution_count": null,
   "metadata": {},
   "outputs": [],
   "source": [
    "from flourish_child.models import ChildSocioDemographic\n",
    "\n",
    "maternal_socio_demographics = SocioDemographicData.objects.all()\n",
    "\n",
    "child_socio_demographics = ChildSocioDemographic.objects.all()\n",
    "\n",
    "with open('participants_not_matching.csv', mode='w', newline='') as file:\n",
    "    writer = csv.writer(file)\n",
    "\n",
    "    writer.writerow(['maternal_identifier','child_identifier', 'Visit Code','stay_with_child','stay_with_caregiver']) \n",
    "\n",
    "    for maternal_socio_demographic in socio_demographics:\n",
    "        for child_socio_demographic in child_socio_demographics:\n",
    "            if child_socio_demographic.child_visit.subject_identifier == maternal_socio_demographic.child_subject_identifier and maternal_socio_demographic.maternal_visit.visit_code[:4] == child_socio_demographic.child_visit.visit_code :\n",
    "                if maternal_socio_demographic.stay_with_child != child_socio_demographic.stay_with_caregiver:\n",
    "                    maternal_identifier = maternal_socio_demographic.maternal_visit.subject_identifier\n",
    "                    child_identifier = socio_demographic.child_subject_identifier\n",
    "                    visit_code = maternal_socio_demographic.maternal_visit.visit_code\n",
    "                    stay_with_child = maternal_socio_demographic.stay_with_child\n",
    "                    stay_with_caregiver = child_socio_demographic.stay_with_caregiver\n",
    "\n",
    "                    writer.writerow([maternal_identifier,child_identifier, visit_code, stay_with_child, stay_with_caregiver])"
   ]
  }
 ],
 "metadata": {
  "kernelspec": {
   "display_name": "flourish",
   "language": "python",
   "name": "python3"
  },
  "language_info": {
   "codemirror_mode": {
    "name": "ipython",
    "version": 3
   },
   "file_extension": ".py",
   "mimetype": "text/x-python",
   "name": "python",
   "nbconvert_exporter": "python",
   "pygments_lexer": "ipython3",
   "version": "3.11.3"
  }
 },
 "nbformat": 4,
 "nbformat_minor": 2
}
