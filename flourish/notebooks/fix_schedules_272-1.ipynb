{
 "cells": [
  {
   "cell_type": "code",
   "execution_count": null,
   "metadata": {},
   "outputs": [],
   "source": [
    "import os, sys,pytz\n",
    "import django\n",
    "from datetime import datetime\n",
    "sys.path.append('../..') # add path to project root dir\n",
    "os.environ[\"DJANGO_SETTINGS_MODULE\"] = \"flourish.settings\"\n",
    "from django.apps import apps as django_apps\n",
    "os.environ[\"DJANGO_ALLOW_ASYNC_UNSAFE\"] = \"true\"\n",
    "from django.apps import apps as django_apps\n",
    "\n",
    "django.setup()"
   ]
  },
  {
   "cell_type": "markdown",
   "metadata": {},
   "source": [
    "Put mother on follow up schedule and link to the child pid 272-1 on dashboard for -10\n"
   ]
  },
  {
   "cell_type": "code",
   "execution_count": null,
   "metadata": {},
   "outputs": [],
   "source": [
    "from edc_visit_schedule.models import SubjectScheduleHistory\n",
    "\n",
    "subject_identifier = 'B142-040991272-1'\n",
    "child_subject_identifier ='B142-040991272-1-10'\n",
    "schedule_name_mother = 'c_quarterly1_schedule1'\n",
    "schedule_name_child = 'child_c_fu_schedule1'\n",
    "\n",
    "subject_history_obj_child = SubjectScheduleHistory.objects.get(\n",
    "subject_identifier=child_subject_identifier,\n",
    "schedule_name = schedule_name_child\n",
    ")\n",
    "\n",
    "onschedule_model_cls_child= django_apps.get_model(subject_history_obj_child.onschedule_model)\n",
    "\n",
    "onschedule_model_obj_child = onschedule_model_cls_child.objects.get(\n",
    "    subject_identifier=child_subject_identifier,\n",
    "    schedule_name=schedule_name_child,\n",
    "    onschedule_datetime=subject_history_obj_child.onschedule_datetime,\n",
    ")\n",
    "\n",
    "onschedule_datetime = onschedule_model_obj_child.onschedule_datetime\n"
   ]
  },
  {
   "cell_type": "code",
   "execution_count": null,
   "metadata": {},
   "outputs": [],
   "source": [
    "from edc_visit_schedule.site_visit_schedules import site_visit_schedules\n",
    "from flourish_caregiver.models import MaternalVisit,OnScheduleCohortCFU\n",
    "from flourish_child.models.onschedule import OnScheduleChildCohortCFU\n",
    "import pytz\n",
    "tz = pytz.timezone('Africa/Gaborone')\n",
    "\n",
    "maternal_visits = MaternalVisit.objects.filter(subject_identifier=subject_identifier,visit_code='2003M')\n",
    "for maternal_visit in maternal_visits:\n",
    "    if maternal_visit.child_subject_identifier == child_subject_identifier:\n",
    "        child_schedule = OnScheduleChildCohortCFU.objects.get(subject_identifier=child_subject_identifier)\n",
    "        schedule_name= 'c_fu1_schedule1'\n",
    "\n",
    "_, schedule = site_visit_schedules.get_by_onschedule_model_schedule_name(\n",
    "    onschedule_model='flourish_caregiver.onschedulecohortcfu',name=schedule_name\n",
    ")\n",
    "schedule.put_on_schedule(\n",
    "    subject_identifier=subject_identifier,onschedule_datetime=onschedule_datetime,\n",
    "    schedule_name=schedule_name,base_appt_datetime=onschedule_datetime\n",
    ")\n",
    "print(\"Schedule created for\",schedule)\n",
    "\n",
    "onschdule_mothers= OnScheduleCohortCFU.objects.filter(subject_identifier=subject_identifier)\n",
    "for onschedule_mother in onschdule_mothers:\n",
    "    if onschedule_mother.child_subject_identifier == '':\n",
    "        onschedule_mother.child_subject_identifier =child_schedule.subject_identifier\n",
    "        onschedule_mother.save()\n",
    "\n",
    "        print(\"Linked with child\")\n"
   ]
  }
 ],
 "metadata": {
  "kernelspec": {
   "display_name": "flourish",
   "language": "python",
   "name": "python3"
  },
  "language_info": {
   "codemirror_mode": {
    "name": "ipython",
    "version": 3
   },
   "file_extension": ".py",
   "mimetype": "text/x-python",
   "name": "python",
   "nbconvert_exporter": "python",
   "pygments_lexer": "ipython3",
   "version": "3.11.3"
  },
  "orig_nbformat": 4
 },
 "nbformat": 4,
 "nbformat_minor": 2
}
