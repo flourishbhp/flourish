{
 "cells": [
  {
   "cell_type": "code",
   "execution_count": null,
   "id": "c7026584",
   "metadata": {},
   "outputs": [],
   "source": [
    "import os, sys,pytz\n",
    "import django\n",
    "from datetime import datetime\n",
    "sys.path.append('../..') # add path to project root dir\n",
    "os.environ[\"DJANGO_SETTINGS_MODULE\"] = \"flourish.settings\"\n",
    "from django.apps import apps as django_apps\n",
    "os.environ[\"DJANGO_ALLOW_ASYNC_UNSAFE\"] = \"true\"\n",
    "\n",
    "django.setup()"
   ]
  },
  {
   "cell_type": "code",
   "execution_count": null,
   "id": "d2a4debb",
   "metadata": {},
   "outputs": [],
   "source": [
    "from flourish_child.models import Appointment\n",
    "\n",
    "subject_identifier = 'B142-040990216-9-10'\n",
    "\n",
    "try:\n",
    "    child_appointment = Appointment.objects.get(subject_identifier=subject_identifier,visit_code='2016')\n",
    "                                                 \n",
    "except Appointment.DoesNotExist:\n",
    "    pass\n",
    "\n",
    "else:                                             \n",
    "    child_appointment.delete()"
   ]
  }
 ],
 "metadata": {
  "kernelspec": {
   "display_name": "flourish",
   "language": "python",
   "name": "python3"
  },
  "language_info": {
   "codemirror_mode": {
    "name": "ipython",
    "version": 3
   },
   "file_extension": ".py",
   "mimetype": "text/x-python",
   "name": "python",
   "nbconvert_exporter": "python",
   "pygments_lexer": "ipython3",
   "version": "3.11.3"
  }
 },
 "nbformat": 4,
 "nbformat_minor": 5
}
