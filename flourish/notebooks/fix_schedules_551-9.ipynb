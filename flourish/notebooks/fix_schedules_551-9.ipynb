{
 "cells": [
  {
   "cell_type": "code",
   "execution_count": null,
   "metadata": {},
   "outputs": [],
   "source": [
    "import os, sys,pytz\n",
    "import django\n",
    "from datetime import datetime\n",
    "sys.path.append('../..') # add path to project root dir\n",
    "os.environ[\"DJANGO_SETTINGS_MODULE\"] = \"flourish.settings\"\n",
    "from django.apps import apps as django_apps\n",
    "os.environ[\"DJANGO_ALLOW_ASYNC_UNSAFE\"] = \"true\"\n",
    "from django.apps import apps as django_apps\n",
    "\n",
    "django.setup()"
   ]
  },
  {
   "cell_type": "markdown",
   "metadata": {},
   "source": [
    "Remove 2011M.1 Schedule from maternal side\n"
   ]
  },
  {
   "cell_type": "code",
   "execution_count": 2,
   "metadata": {},
   "outputs": [],
   "source": [
    "from edc_appointment.models import Appointment\n",
    "from flourish_calendar.models import Reminder\n",
    "\n",
    "subject_identifier = 'B142-040990551-9'\n",
    "\n",
    "try:\n",
    "    mother_appointment = Appointment.objects.get(subject_identifier=subject_identifier,\n",
    "                                                 visit_code='2011M',visit_code_sequence=1)\n",
    "    \n",
    "except Appointment.DoesNotExist:\n",
    "    pass\n",
    "\n",
    "else:\n",
    "    title = (f'{mother_appointment.subject_identifier[-6:]}'\n",
    "                                 f' TB 2 week call : @ {mother_appointment.visit_code}')\n",
    "    reminders= Reminder.objects.filter(title =title)\n",
    "    for reminder in reminders:\n",
    "        reminder.delete()\n",
    "    mother_appointment.delete()\n"
   ]
  }
 ],
 "metadata": {
  "kernelspec": {
   "display_name": "flourish",
   "language": "python",
   "name": "python3"
  },
  "language_info": {
   "codemirror_mode": {
    "name": "ipython",
    "version": 3
   },
   "file_extension": ".py",
   "mimetype": "text/x-python",
   "name": "python",
   "nbconvert_exporter": "python",
   "pygments_lexer": "ipython3",
   "version": "3.11.3"
  },
  "orig_nbformat": 4
 },
 "nbformat": 4,
 "nbformat_minor": 2
}
