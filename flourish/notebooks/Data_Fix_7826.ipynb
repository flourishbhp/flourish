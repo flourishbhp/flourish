{
 "cells": [
  {
   "cell_type": "code",
   "execution_count": null,
   "metadata": {
    "collapsed": false
   },
   "outputs": [],
   "source": [
    "import os, sys\n",
    "import django\n",
    "from datetime import datetime\n",
    "sys.path.append('../..') # add path to project root dir\n",
    "os.environ[\"DJANGO_SETTINGS_MODULE\"] = \"flourish.settings\"\n",
    "from django.apps import apps as django_apps\n",
    "os.environ[\"DJANGO_ALLOW_ASYNC_UNSAFE\"] = \"true\"\n",
    "from django.apps import apps as django_apps\n",
    "\n",
    "django.setup()"
   ]
  },
  {
   "cell_type": "markdown",
   "metadata": {},
   "source": [
    "REdmin 7813 change the first names of children in caregiver child consent"
   ]
  },
  {
   "cell_type": "code",
   "execution_count": 2,
   "metadata": {
    "collapsed": false
   },
   "outputs": [],
   "source": [
    "from flourish_caregiver.models import CaregiverChildConsent\n",
    "\n",
    "subject_id = 'B142-040991051-9-10'\n",
    "first_name = 'TEKO OMATLA'\n",
    "\n",
    "caregiver_child_consents = CaregiverChildConsent.objects.filter(subject_identifier=subject_id)\n",
    "\n",
    "for caregiver_child_consent in caregiver_child_consents:\n",
    "    caregiver_child_consent.first_name = first_name\n",
    "    caregiver_child_consent.save()\n"
   ]
  },
  {
   "cell_type": "code",
   "execution_count": 3,
   "metadata": {},
   "outputs": [],
   "source": [
    "from flourish_caregiver.models import CaregiverChildConsent\n",
    "\n",
    "subject_id = 'B142-040991084-0-10'\n",
    "first_name = 'ZENITH RONA'\n",
    "\n",
    "caregiver_child_consents = CaregiverChildConsent.objects.filter(subject_identifier=subject_id)\n",
    "\n",
    "for caregiver_child_consent in caregiver_child_consents:\n",
    "    caregiver_child_consent.first_name = first_name\n",
    "    caregiver_child_consent.save()"
   ]
  }
 ],
 "metadata": {
  "kernelspec": {
   "display_name": "flourish",
   "language": "python",
   "name": "python3"
  },
  "language_info": {
   "codemirror_mode": {
    "name": "ipython",
    "version": 3
   },
   "file_extension": ".py",
   "mimetype": "text/x-python",
   "name": "python",
   "nbconvert_exporter": "python",
   "pygments_lexer": "ipython3",
   "version": "3.11.3"
  }
 },
 "nbformat": 4,
 "nbformat_minor": 0
}
